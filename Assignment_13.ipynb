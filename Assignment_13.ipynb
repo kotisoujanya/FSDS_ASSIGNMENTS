{
 "cells": [
  {
   "cell_type": "markdown",
   "id": "a9e7c89f",
   "metadata": {},
   "source": [
    "# 1. What advantages do Excel spreadsheets have over CSV spreadsheets?"
   ]
  },
  {
   "cell_type": "markdown",
   "id": "595ff09b",
   "metadata": {},
   "source": [
    "Ans:==\n",
    "\n",
    "It is a binary file that holds information about all the worksheets in a workbook\n",
    "An Excel not only stores data but can also do operations on the data\n",
    "Files saved in excel cannot be opened or edited by text editors\n",
    "large files user is much easier in Excel for the end user. Also, you can have additional functions like selecting individual cells for import, convert dates and time automatically, reading formulas and their results, filters, sorting, etc\n",
    "Apart from text, data can also be stored in form of charts and graphs\n",
    "Excel can connect to external data sources to fetch data. You can use custom add-in in Excel to increase its functionality.\n",
    "Excel allows for Review of Data with detailed tracking and commenting feature\n",
    "In Excel, spreadsheets can have values of data types other than strings; cells can have different fonts, sizes, or color settings; cells can have varying widths and heights; adjacent cells can be merged"
   ]
  },
  {
   "cell_type": "markdown",
   "id": "5e48d581",
   "metadata": {},
   "source": [
    "# 2.What do you pass to csv.reader() and csv.writer() to create reader and writer objects?"
   ]
  },
  {
   "cell_type": "code",
   "execution_count": null,
   "id": "beca7f0f",
   "metadata": {},
   "outputs": [],
   "source": [
    "#we pass a File object, obtained from a call to open().\n",
    "import csv\n",
    "file_csv = open('abc.csv')\n",
    "filereader = csv.reader(file_csv)\n",
    "fileData = list(filereader)\n",
    "fileData"
   ]
  },
  {
   "cell_type": "markdown",
   "id": "fa75a57d",
   "metadata": {},
   "source": [
    "# 3. What modes do File objects for reader and writer objects need to be opened in?"
   ]
  },
  {
   "cell_type": "markdown",
   "id": "f5fde4c6",
   "metadata": {},
   "source": [
    " File objects need to be opened in read-binary ('rb') for Reader objects and write-binary ('wb') for Writer objects"
   ]
  },
  {
   "cell_type": "markdown",
   "id": "7feb67a9",
   "metadata": {},
   "source": [
    "# 4. What method takes a list argument and writes it to a CSV file?"
   ]
  },
  {
   "cell_type": "code",
   "execution_count": null,
   "id": "f1bdd790",
   "metadata": {},
   "outputs": [],
   "source": [
    "#The writerow() method\n",
    "File_abc = open('abc.csv','w')\n",
    "File_Writer = csv.writer(File_abc)\n",
    "csv.writer(File_abc).writerow(['cat','fish','dog'])"
   ]
  },
  {
   "cell_type": "markdown",
   "id": "f1b555f0",
   "metadata": {},
   "source": [
    "# 5. What do the keyword arguments delimiter and line terminator do?"
   ]
  },
  {
   "cell_type": "markdown",
   "id": "4dbc6114",
   "metadata": {},
   "source": [
    "Ans.\n",
    "\n",
    "The delimiter argument changes the string used to separate cells in a row.\n",
    "The line terminator argument changes the string used to separate rows."
   ]
  },
  {
   "cell_type": "markdown",
   "id": "1dde2652",
   "metadata": {},
   "source": [
    "# 6. What function takes a string of JSON data and returns a Python data structure?"
   ]
  },
  {
   "cell_type": "markdown",
   "id": "55bf3cf1",
   "metadata": {},
   "source": [
    " json.loads()"
   ]
  },
  {
   "cell_type": "markdown",
   "id": "64ccd766",
   "metadata": {},
   "source": [
    "# 7. What function takes a Python data structure and returns a string of JSON data?"
   ]
  },
  {
   "cell_type": "markdown",
   "id": "07842ced",
   "metadata": {},
   "source": [
    " json.dumps()"
   ]
  },
  {
   "cell_type": "code",
   "execution_count": null,
   "id": "52b8b0e6",
   "metadata": {},
   "outputs": [],
   "source": []
  }
 ],
 "metadata": {
  "kernelspec": {
   "display_name": "Python 3 (ipykernel)",
   "language": "python",
   "name": "python3"
  },
  "language_info": {
   "codemirror_mode": {
    "name": "ipython",
    "version": 3
   },
   "file_extension": ".py",
   "mimetype": "text/x-python",
   "name": "python",
   "nbconvert_exporter": "python",
   "pygments_lexer": "ipython3",
   "version": "3.9.7"
  }
 },
 "nbformat": 4,
 "nbformat_minor": 5
}
