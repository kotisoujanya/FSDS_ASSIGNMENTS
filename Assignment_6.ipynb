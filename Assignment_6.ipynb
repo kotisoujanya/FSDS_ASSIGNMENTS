{
 "cells": [
  {
   "cell_type": "markdown",
   "id": "7f464b65",
   "metadata": {},
   "source": [
    "\n",
    "# 1. What are escape characters, and how do you use them?\n",
    "      \n",
    "      In Python strings, the backslash \"\" is a special character, also called the \"escape\" character.\n",
    "      It is used in representing certain whitespace characters: \"\\t\" is a tab, \"\\n\" is a newline,\n",
    "      and \"\\r\" is a carriage return"
   ]
  },
  {
   "cell_type": "markdown",
   "id": "caaa4234",
   "metadata": {},
   "source": [
    "# 2. What do the escape characters n and t stand for?\n",
    "     \n",
    "     \"\\t\" is a tab, \"\\n\" is a newline"
   ]
  },
  {
   "cell_type": "markdown",
   "id": "10b178bf",
   "metadata": {},
   "source": [
    "# 3. What is the way to include backslash characters in a string?"
   ]
  },
  {
   "cell_type": "code",
   "execution_count": 2,
   "id": "b9e1cbda",
   "metadata": {},
   "outputs": [
    {
     "name": "stdout",
     "output_type": "stream",
     "text": [
      "its a back slash \\ in a line\n"
     ]
    }
   ],
   "source": [
    "print('its a back slash \\\\ in a line')"
   ]
  },
  {
   "cell_type": "markdown",
   "id": "ba25f4be",
   "metadata": {},
   "source": [
    "# 4. The string \"Howl's Moving Castle\" is a correct value. Why isn't the single quote character in the word Howl's not escaped a problem?"
   ]
  },
  {
   "cell_type": "code",
   "execution_count": 4,
   "id": "7471b544",
   "metadata": {},
   "outputs": [
    {
     "name": "stdout",
     "output_type": "stream",
     "text": [
      "HowI's Moving Castle\n",
      "Its a \"Nice\" Day\n"
     ]
    }
   ],
   "source": [
    "#The single quote in Howl's is fine because you've used double quotes to mark the beginning and end of the string.\n",
    "#like wise we can use double quotes in with single quotes\n",
    "\n",
    "print(\"HowI's Moving Castle\")\n",
    "# like wise we can use double quote in side single quote\n",
    "print('Its a \"Nice\" Day')"
   ]
  },
  {
   "cell_type": "markdown",
   "id": "f5982439",
   "metadata": {},
   "source": [
    "# 5. How do you write a string of newlines if you don't want to use the n character?"
   ]
  },
  {
   "cell_type": "code",
   "execution_count": 3,
   "id": "c6e831b6",
   "metadata": {},
   "outputs": [
    {
     "name": "stdout",
     "output_type": "stream",
     "text": [
      "printing something in new line\n",
      "newline\n"
     ]
    }
   ],
   "source": [
    "print(\"printing something in new line\",end = '\\n')\n",
    "print(\"newline\")\n"
   ]
  },
  {
   "cell_type": "markdown",
   "id": "0170a7aa",
   "metadata": {},
   "source": [
    "# 6. What are the values of the given expressions\n",
    "\n",
    "      'Hello, world!'[1]   -----> 'e'\n",
    "\n",
    "      'Hello, world!'[0:5]  -----> 'Hello'\n",
    "\n",
    "      'Hello, world!'[:5]   -----> 'Hello'\n",
    "\n",
    "      'Hello, world!'[3:]   -----> 'lo, World!'\n"
   ]
  },
  {
   "cell_type": "code",
   "execution_count": 31,
   "id": "215d2274",
   "metadata": {},
   "outputs": [
    {
     "name": "stdout",
     "output_type": "stream",
     "text": [
      "e\n",
      "Hello\n",
      "Hello\n",
      "lo,World!\n"
     ]
    }
   ],
   "source": [
    "print('Hello,World!'[1])\n",
    "print('Hello,World!'[0:5])\n",
    "print('Hello,World!'[:5])\n",
    "print('Hello,World!'[3:])"
   ]
  },
  {
   "cell_type": "markdown",
   "id": "5b8a1e4a",
   "metadata": {},
   "source": [
    "# 7. What are the values of the following expressions?\n",
    "\n",
    "'Hello'.upper()\n",
    "\n",
    "'Hello'.upper().isupper()\n",
    "\n",
    "'Hello'.upper().lower()\n"
   ]
  },
  {
   "cell_type": "code",
   "execution_count": 19,
   "id": "c6b2bafc",
   "metadata": {},
   "outputs": [
    {
     "data": {
      "text/plain": [
       "'HELLO'"
      ]
     },
     "execution_count": 19,
     "metadata": {},
     "output_type": "execute_result"
    }
   ],
   "source": [
    "'Hello'.upper()  #returns all capital alphabets\n"
   ]
  },
  {
   "cell_type": "code",
   "execution_count": 21,
   "id": "893ffd73",
   "metadata": {},
   "outputs": [
    {
     "data": {
      "text/plain": [
       "True"
      ]
     },
     "execution_count": 21,
     "metadata": {},
     "output_type": "execute_result"
    }
   ],
   "source": [
    "'Hello'.upper().isupper()   #returns the bool type(it checked the condition given string is in upper case are not)"
   ]
  },
  {
   "cell_type": "code",
   "execution_count": 24,
   "id": "6fc85277",
   "metadata": {},
   "outputs": [
    {
     "data": {
      "text/plain": [
       "'hello'"
      ]
     },
     "execution_count": 24,
     "metadata": {},
     "output_type": "execute_result"
    }
   ],
   "source": [
    "'Hello'.upper().lower()  #returns the given string in lowercase "
   ]
  },
  {
   "cell_type": "markdown",
   "id": "abb49512",
   "metadata": {},
   "source": [
    "# 8. What are the values of the following expressions?\n",
    "\n"
   ]
  },
  {
   "cell_type": "markdown",
   "id": "d7cd789d",
   "metadata": {},
   "source": [
    "\n",
    "      'Remember, remember, the fifth of July.'.split()\n",
    "\n",
    "       '-'.join('There can only one.'.split())\n"
   ]
  },
  {
   "cell_type": "code",
   "execution_count": 13,
   "id": "d5551e89",
   "metadata": {},
   "outputs": [
    {
     "data": {
      "text/plain": [
       "['Remember,remember,the', 'fifth', 'of', 'july.']"
      ]
     },
     "execution_count": 13,
     "metadata": {},
     "output_type": "execute_result"
    }
   ],
   "source": [
    "'Remember,remember,the fifth of july.'.split() #by default split with the spaces"
   ]
  },
  {
   "cell_type": "code",
   "execution_count": 14,
   "id": "c808a6cf",
   "metadata": {},
   "outputs": [
    {
     "data": {
      "text/plain": [
       "['Remember', 'remember', 'the fifth of july.']"
      ]
     },
     "execution_count": 14,
     "metadata": {},
     "output_type": "execute_result"
    }
   ],
   "source": [
    "'Remember,remember,the fifth of july.'.split(\",\")"
   ]
  },
  {
   "cell_type": "code",
   "execution_count": 15,
   "id": "848ab83c",
   "metadata": {},
   "outputs": [
    {
     "data": {
      "text/plain": [
       "['Remember,remember,the fifth of july.']"
      ]
     },
     "execution_count": 15,
     "metadata": {},
     "output_type": "execute_result"
    }
   ],
   "source": [
    "'Remember,remember,the fifth of july.'.split(\"*\")"
   ]
  },
  {
   "cell_type": "code",
   "execution_count": 16,
   "id": "81c84e30",
   "metadata": {},
   "outputs": [
    {
     "data": {
      "text/plain": [
       "'there-can-only-one.'"
      ]
     },
     "execution_count": 16,
     "metadata": {},
     "output_type": "execute_result"
    }
   ],
   "source": [
    "'-'.join('there can only one.'.split())"
   ]
  },
  {
   "cell_type": "code",
   "execution_count": 17,
   "id": "b13f70cd",
   "metadata": {},
   "outputs": [
    {
     "data": {
      "text/plain": [
       "'There*can*only*one.'"
      ]
     },
     "execution_count": 17,
     "metadata": {},
     "output_type": "execute_result"
    }
   ],
   "source": [
    " '*'.join('There can only one.'.split())"
   ]
  },
  {
   "cell_type": "code",
   "execution_count": 18,
   "id": "21322e1f",
   "metadata": {},
   "outputs": [
    {
     "data": {
      "text/plain": [
       "'There---can---only---one.'"
      ]
     },
     "execution_count": 18,
     "metadata": {},
     "output_type": "execute_result"
    }
   ],
   "source": [
    " '---'.join('There can only one.'.split())"
   ]
  },
  {
   "cell_type": "markdown",
   "id": "9227d388",
   "metadata": {},
   "source": [
    "# 9. What are the methods for right-justifying, left-justifying, and centering a string?"
   ]
  },
  {
   "cell_type": "code",
   "execution_count": 7,
   "id": "0c34a280",
   "metadata": {},
   "outputs": [
    {
     "data": {
      "text/plain": [
       "'soujanya************'"
      ]
     },
     "execution_count": 7,
     "metadata": {},
     "output_type": "execute_result"
    }
   ],
   "source": [
    "#left justified\n",
    "string=\"soujanya\"\n",
    "string.ljust(20,\"*\")\n"
   ]
  },
  {
   "cell_type": "code",
   "execution_count": 8,
   "id": "6364b5c1",
   "metadata": {},
   "outputs": [
    {
     "data": {
      "text/plain": [
       "'------------soujanya'"
      ]
     },
     "execution_count": 8,
     "metadata": {},
     "output_type": "execute_result"
    }
   ],
   "source": [
    "#right justified\n",
    "string=\"soujanya\"\n",
    "string.rjust(20,\"-\")"
   ]
  },
  {
   "cell_type": "code",
   "execution_count": 10,
   "id": "29dc1997",
   "metadata": {},
   "outputs": [
    {
     "data": {
      "text/plain": [
       "'@@@@@@@@@@@@@@@@@@@@@soujanya@@@@@@@@@@@@@@@@@@@@@'"
      ]
     },
     "execution_count": 10,
     "metadata": {},
     "output_type": "execute_result"
    }
   ],
   "source": [
    "#center justified\n",
    "string=\"soujanya\"\n",
    "string.center(50,\"@\")"
   ]
  },
  {
   "cell_type": "markdown",
   "id": "03b81487",
   "metadata": {},
   "source": [
    "# 10. What is the best way to remove whitespace characters from the start or end?"
   ]
  },
  {
   "cell_type": "code",
   "execution_count": 3,
   "id": "eca865a8",
   "metadata": {},
   "outputs": [
    {
     "data": {
      "text/plain": [
       "'ssssssgggggggg     '"
      ]
     },
     "execution_count": 3,
     "metadata": {},
     "output_type": "execute_result"
    }
   ],
   "source": [
    "str1=\"     ssssssgggggggg     \"\n",
    "str1.lstrip()"
   ]
  },
  {
   "cell_type": "code",
   "execution_count": 4,
   "id": "57c410da",
   "metadata": {},
   "outputs": [
    {
     "data": {
      "text/plain": [
       "'     ssssssgggggggg'"
      ]
     },
     "execution_count": 4,
     "metadata": {},
     "output_type": "execute_result"
    }
   ],
   "source": [
    "str1=\"     ssssssgggggggg     \"\n",
    "str1.rstrip()"
   ]
  },
  {
   "cell_type": "code",
   "execution_count": 5,
   "id": "6045ef63",
   "metadata": {},
   "outputs": [
    {
     "data": {
      "text/plain": [
       "'ssssssgggggggg'"
      ]
     },
     "execution_count": 5,
     "metadata": {},
     "output_type": "execute_result"
    }
   ],
   "source": [
    "str1=\"     ssssssgggggggg     \"\n",
    "str1.strip()"
   ]
  },
  {
   "cell_type": "code",
   "execution_count": null,
   "id": "aa60d23b",
   "metadata": {},
   "outputs": [],
   "source": []
  }
 ],
 "metadata": {
  "kernelspec": {
   "display_name": "Python 3 (ipykernel)",
   "language": "python",
   "name": "python3"
  },
  "language_info": {
   "codemirror_mode": {
    "name": "ipython",
    "version": 3
   },
   "file_extension": ".py",
   "mimetype": "text/x-python",
   "name": "python",
   "nbconvert_exporter": "python",
   "pygments_lexer": "ipython3",
   "version": "3.9.7"
  }
 },
 "nbformat": 4,
 "nbformat_minor": 5
}
