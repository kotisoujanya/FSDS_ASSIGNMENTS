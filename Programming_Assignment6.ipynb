{
 "cells": [
  {
   "cell_type": "markdown",
   "id": "ff42227e",
   "metadata": {},
   "source": [
    "# 1.\tWrite a Python Program to Display Fibonacci Sequence Using Recursion?"
   ]
  },
  {
   "cell_type": "code",
   "execution_count": 7,
   "id": "1fed11b8",
   "metadata": {},
   "outputs": [
    {
     "name": "stdout",
     "output_type": "stream",
     "text": [
      "input no : 10\n",
      "0 1 1 2 3 5 8 13 21 34 "
     ]
    }
   ],
   "source": [
    "def recurfib(n):\n",
    "    if n<=1:\n",
    "        return n\n",
    "    else:\n",
    "        return recurfib(n-1) + recurfib(n-2)\n",
    "num = int(input(\"input no : \"))\n",
    "if num <=0:\n",
    "    print(\"Please provide positive no.\")\n",
    "else:\n",
    "    for i in range(num):\n",
    "        print(recurfib(i) , end=\" \")\n",
    "       "
   ]
  },
  {
   "cell_type": "markdown",
   "id": "407efbcc",
   "metadata": {},
   "source": [
    "# 2.\tWrite a Python Program to Find Factorial of Number Using Recursion?"
   ]
  },
  {
   "cell_type": "code",
   "execution_count": 6,
   "id": "d8386816",
   "metadata": {},
   "outputs": [
    {
     "name": "stdout",
     "output_type": "stream",
     "text": [
      "enter  integer number: 5\n",
      "factorial of the 5 is  120\n"
     ]
    }
   ],
   "source": [
    "def factorial(n):\n",
    "    if n==0 or n==1:\n",
    "        return 1\n",
    "    else:\n",
    "        return n*factorial(n-1)\n",
    "n=int(input(\"enter  integer number: \"))\n",
    "if n<0:\n",
    "    print(\"enter positive integer number\")\n",
    "else:\n",
    "    print(f\"factorial of the {n} is \",factorial(n))"
   ]
  },
  {
   "cell_type": "markdown",
   "id": "ca35aa33",
   "metadata": {},
   "source": [
    "# 3.\tWrite a Python Program to calculate your Body Mass Index?"
   ]
  },
  {
   "cell_type": "code",
   "execution_count": 7,
   "id": "5657819f",
   "metadata": {},
   "outputs": [
    {
     "name": "stdout",
     "output_type": "stream",
     "text": [
      "enter weight (in kilograms): 60\n",
      "enter height (in meters): 1.62\n",
      "Body Mass Index Calculater  22.86236854138088\n"
     ]
    }
   ],
   "source": [
    "#formula for body mass index = weight(in kilograms)/height*height(in meters)\n",
    "def body_mass_index(weight,height):\n",
    "    return weight/(height*height)\n",
    "\n",
    "w=float(input(\"enter weight (in kilograms): \"))\n",
    "h=float(input(\"enter height (in meters): \"))\n",
    "print(\"Body Mass Index Calculater \",body_mass_index(w,h))"
   ]
  },
  {
   "cell_type": "markdown",
   "id": "08444d0b",
   "metadata": {},
   "source": [
    "# 4.\tWrite a Python Program to calculate the natural logarithm of any number?"
   ]
  },
  {
   "cell_type": "code",
   "execution_count": 5,
   "id": "aff3eef0",
   "metadata": {},
   "outputs": [
    {
     "name": "stdout",
     "output_type": "stream",
     "text": [
      "enter any positive integer number: 5\n",
      "natural logarith of 5 (base e)  1.6094379124341003\n",
      "\n",
      "enter any positive integer number: 5\n",
      "logarithm of 5 with base 10 is  0.6989700043360189\n"
     ]
    }
   ],
   "source": [
    "#natural logarith (base e)\n",
    "import math\n",
    "n=int(input(\"enter any positive integer number: \"))\n",
    "logarithm=math.log(n)\n",
    "print(f\"natural logarith of {n} (base e) \",logarithm)\n",
    "\n",
    "\n",
    "print()\n",
    "#=============================================================\n",
    "#logarithm with base 10\n",
    "import math\n",
    "n=int(input(\"enter any positive integer number: \"))\n",
    "logarithm=math.log10(n)\n",
    "print(f\"logarithm of {n} with base 10 is \",logarithm)\n"
   ]
  },
  {
   "cell_type": "markdown",
   "id": "dc14dbb7",
   "metadata": {},
   "source": [
    "# 5.\tWrite a Python Program for cube sum of first n natural numbers?"
   ]
  },
  {
   "cell_type": "code",
   "execution_count": 19,
   "id": "79863ffd",
   "metadata": {},
   "outputs": [
    {
     "name": "stdout",
     "output_type": "stream",
     "text": [
      "enter any natural number: 5\n",
      "cube sum of sum of first 5 natural numbers is  225\n",
      "\n",
      "enter any natural number: 5\n",
      "cube sum of sum of first 5 natural numbers is  225.0\n"
     ]
    }
   ],
   "source": [
    "def cube_of_sum_of_natural_numbers(n):\n",
    "    sum=0\n",
    "    for i in range(1,n+1):\n",
    "        sum=sum+i**3\n",
    "    return sum\n",
    "n=int(input(\"enter any natural number: \"))\n",
    "print(f\"cube sum of sum of first {n} natural numbers is \",cube_of_sum_of_natural_numbers(n))\n",
    "\n",
    "\n",
    "print()\n",
    "#=========================================================================\n",
    "#another way using formula\n",
    "n=int(input(\"enter any natural number: \"))\n",
    "cube_of_sum=((n*(n+1))/2)**2\n",
    "print(f\"cube sum of sum of first {n} natural numbers is \",cube_of_sum)\n"
   ]
  },
  {
   "cell_type": "code",
   "execution_count": null,
   "id": "027a94f5",
   "metadata": {},
   "outputs": [],
   "source": []
  }
 ],
 "metadata": {
  "kernelspec": {
   "display_name": "Python 3 (ipykernel)",
   "language": "python",
   "name": "python3"
  },
  "language_info": {
   "codemirror_mode": {
    "name": "ipython",
    "version": 3
   },
   "file_extension": ".py",
   "mimetype": "text/x-python",
   "name": "python",
   "nbconvert_exporter": "python",
   "pygments_lexer": "ipython3",
   "version": "3.9.7"
  }
 },
 "nbformat": 4,
 "nbformat_minor": 5
}
