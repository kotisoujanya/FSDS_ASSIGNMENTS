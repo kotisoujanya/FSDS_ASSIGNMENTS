{
 "cells": [
  {
   "cell_type": "markdown",
   "id": "522ba63b",
   "metadata": {},
   "source": [
    "# 1.What are the two values of the Boolean data type? How do you write them?\n",
    "      \n",
    "       True and False are two values of boolean data type. Wecan write then first letter capital and remaing are small\n",
    "       \n",
    "       letters"
   ]
  },
  {
   "cell_type": "markdown",
   "id": "84be5001",
   "metadata": {},
   "source": [
    "# 2. What are the three different types of Boolean operators?\n",
    "      \n",
    "      \n",
    "      The basic boolean operators are --> AND,OR and NOT operators.     "
   ]
  },
  {
   "cell_type": "markdown",
   "id": "c254a64e",
   "metadata": {},
   "source": [
    "# 3. Make a list of each Boolean operator's truth tables (i.e. every possible combination of Boolean values for the operator and what it evaluate ).\n",
    "      \n",
    "      AND operator:\n",
    "       True and True  ---> True\n",
    "       True and False ---> False\n",
    "       False and True ---> False\n",
    "       False and False---> False\n",
    "     OR operator:\n",
    "       True or True  ---> True\n",
    "       True or False ---> True\n",
    "       False or True ---> True\n",
    "       False or False---> False\n",
    "     NOT operator:\n",
    "       not True  --> False\n",
    "       not false --> True"
   ]
  },
  {
   "cell_type": "markdown",
   "id": "64d2621c",
   "metadata": {},
   "source": [
    "# 4. What are the values of the following expressions?\n",
    "\n",
    "\n",
    "    (5 > 4) and (3 == 5)     =======> False\n",
    " \n",
    "    not (5 > 4)             =========> False\n",
    "\n",
    "    (5 > 4) or (3 == 5)     =========> True\n",
    "\n",
    "    not ((5 > 4) or (3 == 5)) =======> False\n",
    "\n",
    "    (True and True) and (True == False)  ===> False\n",
    "\n",
    "    (not False) or (not True)   =========> True\n"
   ]
  },
  {
   "cell_type": "markdown",
   "id": "142fdb4c",
   "metadata": {},
   "source": [
    "# 5. What are the six comparison operators?\n",
    "     \n",
    "     ==   ----> equal operator\n",
    "     !=   ----> not equal\n",
    "     <    ----> greater than\n",
    "     >    ----> less than\n",
    "     <=   ----> greater than or equals \n",
    "     >=   ----> lessthan or equal"
   ]
  },
  {
   "cell_type": "markdown",
   "id": "95e201d1",
   "metadata": {},
   "source": [
    "# 6. How do you tell the difference between the equal to and assignment operators?Describe a condition and when you would use one.\n",
    "\n",
    "       == is the equal to operator that compares two values and evaluates to a Boolean, while = is the assignment\n",
    "       operator that stores a value in a variable.\n",
    "       A condition is an expression used in a flow control statement that evaluates to a Boolean value."
   ]
  },
  {
   "cell_type": "markdown",
   "id": "cccc379d",
   "metadata": {},
   "source": [
    "# 7. Identify the three blocks in this code"
   ]
  },
  {
   "cell_type": "code",
   "execution_count": null,
   "id": "40613ab6",
   "metadata": {},
   "outputs": [],
   "source": [
    "#7. Identify the three blocks in this code:\n",
    "    \n",
    "spam = 0\n",
    "if spam == 10:\n",
    "print('eggs')\n",
    "if spam > 5:\n",
    "print('bacon')\n",
    "else:\n",
    "print('ham')\n",
    "print('spam')\n",
    "print('spam')\n"
   ]
  },
  {
   "cell_type": "markdown",
   "id": "8b028475",
   "metadata": {},
   "source": [
    "# 8. Write code that prints Hello if 1 is stored in spam, prints Howdy if 2 is stored in spam, and prints Greetings! if anything else is stored in spam.\n",
    "\n"
   ]
  },
  {
   "cell_type": "code",
   "execution_count": null,
   "id": "fa275fa0",
   "metadata": {},
   "outputs": [],
   "source": [
    "if spam==1:\n",
    "    print(\"Hello\")\n",
    "elif spam==2:\n",
    "    print(\"Howdy\")\n",
    "else:\n",
    "    print(\"Greetings\")"
   ]
  },
  {
   "cell_type": "markdown",
   "id": "8384e248",
   "metadata": {},
   "source": [
    "# 9.If your programme is stuck in an endless loop, what keys you’ll press?\n",
    " \n",
    "       Press CTRL+C to get out of the infinite loop."
   ]
  },
  {
   "cell_type": "markdown",
   "id": "e3fa6d4b",
   "metadata": {},
   "source": [
    "# 10. How can you tell the difference between break and continue?\n",
    "\n",
    "      break: it terninates the nearest enclosing loop.\n",
    "      continue: it passes the control to the next iteration of a loop."
   ]
  },
  {
   "cell_type": "markdown",
   "id": "d1407045",
   "metadata": {},
   "source": [
    "# 11. In a for loop, what is the difference between range(10), range(0, 10), and range(0, 10, 1)?\n",
    "        \n",
    "        \n",
    "        \n",
    "        range(10)     ----> returns  0 to 9\n",
    "        range(0,10)   ----> returns 0 to 9\n",
    "        range(0,10,1) ----> returns 0 to 9\n",
    "        \n",
    "        There three range functions returns same output"
   ]
  },
  {
   "cell_type": "markdown",
   "id": "eb0a0cf5",
   "metadata": {},
   "source": [
    "# 12. Write a short program that prints the numbers 1 to 10 using a for loop. Then write an equivalent program that prints the numbers 1 to 10 using a while loop."
   ]
  },
  {
   "cell_type": "code",
   "execution_count": 1,
   "id": "49e99d73",
   "metadata": {},
   "outputs": [
    {
     "name": "stdout",
     "output_type": "stream",
     "text": [
      "1 2 3 4 5 6 7 8 9 10 using for loop\n",
      "1 2 3 4 5 6 7 8 9 10 using while loop\n"
     ]
    }
   ],
   "source": [
    "#Using for loop:\n",
    "for i in range(1,11):\n",
    "    print(i,end=\" \")\n",
    "    \n",
    "print(\"using for loop\")    \n",
    "#using while loop\n",
    "i=1\n",
    "while i<=10:\n",
    "    print(i,end=\" \")\n",
    "    i+=1\n",
    "print(\"using while loop\")"
   ]
  },
  {
   "cell_type": "markdown",
   "id": "15981a56",
   "metadata": {},
   "source": [
    "# 13. If you had a function named bacon() inside a module named spam, how would you call it after importing spam?\n",
    "\n",
    "           from  spam import bacon()\n",
    "           bacon()\n",
    "           or\n",
    "           import spam\n",
    "           spam.bacon()\n",
    "           or \n",
    "           import spam as sp\n",
    "           sp.bacon()\n",
    "           or \n",
    "           from spam import *\n",
    "           bacon()\n",
    "           "
   ]
  },
  {
   "cell_type": "code",
   "execution_count": null,
   "id": "51020318",
   "metadata": {},
   "outputs": [],
   "source": []
  }
 ],
 "metadata": {
  "kernelspec": {
   "display_name": "Python 3 (ipykernel)",
   "language": "python",
   "name": "python3"
  },
  "language_info": {
   "codemirror_mode": {
    "name": "ipython",
    "version": 3
   },
   "file_extension": ".py",
   "mimetype": "text/x-python",
   "name": "python",
   "nbconvert_exporter": "python",
   "pygments_lexer": "ipython3",
   "version": "3.9.7"
  }
 },
 "nbformat": 4,
 "nbformat_minor": 5
}
