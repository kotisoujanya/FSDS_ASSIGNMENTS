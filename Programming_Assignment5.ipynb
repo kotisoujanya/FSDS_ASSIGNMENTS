{
 "cells": [
  {
   "cell_type": "markdown",
   "id": "79d50516",
   "metadata": {},
   "source": [
    "# 1.\tWrite a Python Program to Find LCM?"
   ]
  },
  {
   "cell_type": "code",
   "execution_count": 16,
   "id": "6aac7b4e",
   "metadata": {},
   "outputs": [
    {
     "name": "stdout",
     "output_type": "stream",
     "text": [
      "Enter num1 : 5\n",
      "Enter num2 : 6\n",
      "The LCM of 5 and 6 is  30\n"
     ]
    }
   ],
   "source": [
    "#LCM in Maths is the Least Common Multiple\n",
    "\n",
    "x = int(input(\"Enter num1 : \"))\n",
    "y = int(input(\"Enter num2 : \"))\n",
    "# big no.\n",
    "if x > y:\n",
    "    big = x\n",
    "else:\n",
    "    big = y    \n",
    "while(True):\n",
    "    if big % x == 0 and big % y == 0 :\n",
    "        lcm = big\n",
    "        break\n",
    "    big+=1    \n",
    "print(f\"The LCM of {x} and {y} is \",lcm)"
   ]
  },
  {
   "cell_type": "markdown",
   "id": "25ebce5b",
   "metadata": {},
   "source": [
    "# 2.\tWrite a Python Program to Find HCF?"
   ]
  },
  {
   "cell_type": "code",
   "execution_count": 4,
   "id": "ebe95684",
   "metadata": {},
   "outputs": [
    {
     "name": "stdout",
     "output_type": "stream",
     "text": [
      "Enter num1 : 60\n",
      "Enter num2 : 48\n",
      "The hcf of 60 and 48 is  12\n",
      "\n",
      "enter first number60\n",
      "enter second number48\n",
      "The HCF of 60 and 48 is :  12\n"
     ]
    }
   ],
   "source": [
    "#HCF is the Highest Common Factor. \n",
    "\n",
    "x = int(input(\"Enter num1 : \"))\n",
    "y = int(input(\"Enter num2 : \"))\n",
    "# big no\n",
    "if x < y:\n",
    "    small = x\n",
    "else:\n",
    "    small = y\n",
    "hcf = 0   \n",
    "for i in range(1,small+1):\n",
    "    if x % i == 0 and y % i == 0 :\n",
    "        hcf = i    \n",
    "print(f\"The hcf of {x} and {y} is \",hcf)\n",
    "\n",
    "\n",
    "print()\n",
    "#===============================================================\n",
    "def computeHCF(x, y):\n",
    "    while(y):\n",
    "       x, y = y, x % y\n",
    "    return abs(x)\n",
    " \n",
    "a = int(input(\"enter first number\"))\n",
    "b = int(input(\"enter second number\"))\n",
    "print (\"The HCF of 60 and 48 is : \",computeHCF(a,b))"
   ]
  },
  {
   "cell_type": "markdown",
   "id": "35bc0e57",
   "metadata": {},
   "source": [
    "\n",
    "# 3.\tWrite a Python Program to Convert Decimal to Binary, Octal and Hexadecimal?\n"
   ]
  },
  {
   "cell_type": "code",
   "execution_count": 7,
   "id": "748c9c5c",
   "metadata": {},
   "outputs": [
    {
     "name": "stdout",
     "output_type": "stream",
     "text": [
      "enter any decimal number: 40\n",
      "40 in binary : 0b101000\n",
      "40 in octal : 0o50\n",
      "40 in hexadecimal : 0x28\n",
      "\n",
      "enter any decimal number: 40\n",
      "decimal to binary,octal,hexadecimal :  ('0b101000', '0o50', '0x28')\n"
     ]
    }
   ],
   "source": [
    "n= int(input(\"enter any decimal number: \"))\n",
    "print(f\"{n} in binary :\",bin(n))\n",
    "print(f\"{n} in octal :\",oct(n))\n",
    "print(f\"{n} in hexadecimal :\",hex(n))\n",
    "\n",
    "\n",
    "print()\n",
    "#===========================================\n",
    "#using function\n",
    "def convert(decimal_number):\n",
    "    x,y,z=bin(decimal_number),oct(decimal_number),hex(decimal_number)\n",
    "    return x,y,z\n",
    "n= int(input(\"enter any decimal number: \"))\n",
    "print(\"decimal to binary,octal,hexadecimal : \",convert(n))\n",
    "    "
   ]
  },
  {
   "cell_type": "markdown",
   "id": "af29e98f",
   "metadata": {},
   "source": [
    "# 4.\tWrite a Python Program To Find ASCII value of a character?"
   ]
  },
  {
   "cell_type": "code",
   "execution_count": 12,
   "id": "63e28d68",
   "metadata": {},
   "outputs": [
    {
     "name": "stdout",
     "output_type": "stream",
     "text": [
      "enter any character in alphabets: h\n",
      "'h' character of ASCII value is  104\n"
     ]
    }
   ],
   "source": [
    "char=input(\"enter any character in alphabets: \")\n",
    "# ord() function gives the ASCII value of a character\n",
    "# chr() function gives the character of ASCII value\n",
    "print(f\"'{char}' character of ASCII value is \",ord(char))"
   ]
  },
  {
   "cell_type": "markdown",
   "id": "186b6018",
   "metadata": {},
   "source": [
    "# 5.\tWrite a Python Program to Make a Simple Calculator with 4 basic mathematical operations?"
   ]
  },
  {
   "cell_type": "code",
   "execution_count": 13,
   "id": "6ad17c01",
   "metadata": {},
   "outputs": [
    {
     "name": "stdout",
     "output_type": "stream",
     "text": [
      "enter  number1: 5\n",
      "enter  number2: 0\n",
      "enter + operator for adding\n",
      " enter - operator for subtration \n",
      " enter * operator for multiplication \n",
      "enter / operator for division(+,-,*,/): \n",
      "/\n",
      "Division with zero is not possible,please enter non zero value\n"
     ]
    }
   ],
   "source": [
    "n1=float(input(\"enter  number1: \"))\n",
    "n2=float(input(\"enter  number2: \"))\n",
    "operator=input(\"enter + operator for adding\\n enter - operator for subtration \\n enter * operator for multiplication \\nenter / operator for division(+,-,*,/): \\n\")\n",
    "addition = n1+n2\n",
    "substratin = n1-n2\n",
    "multiplication = n1*n2\n",
    "#division = n1/n2\n",
    "\n",
    "if operator == \"+\":\n",
    "    print(f\"addition of {n1}+{n2} = \",addition)\n",
    "elif operator == \"-\":\n",
    "    print(f\"substration of {n1}-{n2} = \",substratin)\n",
    "elif operator == \"*\":\n",
    "    print(f\"mutiplication of {n1}*{n2} = \",multiplication)\n",
    "elif operator == \"/\":\n",
    "    if n2==0:\n",
    "        print(\"Division with zero is not possible,please enter non zero value\")\n",
    "    else:\n",
    "        division = n1/n2\n",
    "        print(f\"division of {n1}/{n2} = \",division)"
   ]
  },
  {
   "cell_type": "code",
   "execution_count": null,
   "id": "59a6b61c",
   "metadata": {},
   "outputs": [],
   "source": []
  }
 ],
 "metadata": {
  "kernelspec": {
   "display_name": "Python 3 (ipykernel)",
   "language": "python",
   "name": "python3"
  },
  "language_info": {
   "codemirror_mode": {
    "name": "ipython",
    "version": 3
   },
   "file_extension": ".py",
   "mimetype": "text/x-python",
   "name": "python",
   "nbconvert_exporter": "python",
   "pygments_lexer": "ipython3",
   "version": "3.9.7"
  }
 },
 "nbformat": 4,
 "nbformat_minor": 5
}
