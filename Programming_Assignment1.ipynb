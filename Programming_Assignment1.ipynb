{
 "cells": [
  {
   "cell_type": "markdown",
   "id": "7af3f4a5",
   "metadata": {},
   "source": [
    "# 1.\tWrite a Python program to print \"Hello Python\"?"
   ]
  },
  {
   "cell_type": "code",
   "execution_count": 1,
   "id": "59e335ba",
   "metadata": {},
   "outputs": [
    {
     "name": "stdout",
     "output_type": "stream",
     "text": [
      "Hello Python\n"
     ]
    }
   ],
   "source": [
    "print(\"Hello Python\")"
   ]
  },
  {
   "cell_type": "markdown",
   "id": "ab1dafb0",
   "metadata": {},
   "source": [
    "# 2.\tWrite a Python program to do arithmetical operations addition and division.?"
   ]
  },
  {
   "cell_type": "code",
   "execution_count": 4,
   "id": "f6913d54",
   "metadata": {},
   "outputs": [
    {
     "name": "stdout",
     "output_type": "stream",
     "text": [
      "45\n",
      "2.75\n"
     ]
    }
   ],
   "source": [
    "a=12\n",
    "b=33\n",
    "c=a+b\n",
    "print(c)\n",
    "d=b/a\n",
    "print(d)"
   ]
  },
  {
   "cell_type": "code",
   "execution_count": 6,
   "id": "0b1be7a9",
   "metadata": {},
   "outputs": [
    {
     "name": "stdout",
     "output_type": "stream",
     "text": [
      "68\n",
      "0.5111111111111111\n"
     ]
    }
   ],
   "source": [
    "#By using function\n",
    "def addition(a,b):\n",
    "    return a+b\n",
    "def division(a,b):\n",
    "    return a/b\n",
    "print(addition(23,45))\n",
    "print(division(23,45))"
   ]
  },
  {
   "cell_type": "markdown",
   "id": "ae6ebf32",
   "metadata": {},
   "source": [
    "# 3.\tWrite a Python program to find the area of a triangle?"
   ]
  },
  {
   "cell_type": "code",
   "execution_count": 12,
   "id": "e95adb78",
   "metadata": {},
   "outputs": [
    {
     "name": "stdout",
     "output_type": "stream",
     "text": [
      "enter base of triangle: 5\n",
      "enter height of triangle: 4\n",
      "area of the triangle:  10.0\n"
     ]
    }
   ],
   "source": [
    "def area_of_triangle(b,h):\n",
    "    return (b*h)/2\n",
    "base=float(input(\"enter base of triangle: \"))\n",
    "height=float(input(\"enter height of triangle: \"))\n",
    "print(\"area of the triangle: \",area_of_triangle(base,height))"
   ]
  },
  {
   "cell_type": "markdown",
   "id": "f5cc4715",
   "metadata": {},
   "source": [
    "# 4.\tWrite a Python program to swap two variables?"
   ]
  },
  {
   "cell_type": "code",
   "execution_count": 20,
   "id": "5fad0b43",
   "metadata": {},
   "outputs": [
    {
     "name": "stdout",
     "output_type": "stream",
     "text": [
      "enter first variable: 200\n",
      "enter second variable: 500\n",
      "Before swap:  \n",
      "first variable is 200 \n",
      "second variable is  500\n",
      "After swap:  \n",
      "first variable is 500 \n",
      "second variable is  200\n"
     ]
    }
   ],
   "source": [
    "first_variable=int(input(\"enter first variable: \"))\n",
    "second_variable=int(input(\"enter second variable: \"))\n",
    "print(f\"Before swap:  \\nfirst variable is {first_variable} \\nsecond variable is  {second_variable}\")\n",
    "second_variable,first_variable=first_variable,second_variable\n",
    "print(f\"After swap:  \\nfirst variable is {first_variable} \\nsecond variable is  {second_variable}\")"
   ]
  },
  {
   "cell_type": "markdown",
   "id": "dcda821e",
   "metadata": {},
   "source": [
    "# 1.\tWrite a Python program to generate a random number?"
   ]
  },
  {
   "cell_type": "code",
   "execution_count": 32,
   "id": "8ae24dfd",
   "metadata": {},
   "outputs": [
    {
     "name": "stdout",
     "output_type": "stream",
     "text": [
      "0.9084489847709726\n",
      "48\n"
     ]
    }
   ],
   "source": [
    "import random\n",
    "n=random.random()\n",
    "print(n)          #by default it gives the value in between 0 to 1\n",
    "\n",
    "\n",
    "#if you give some range \n",
    "import random\n",
    "n=random.randint(10,50)\n",
    "print(n)"
   ]
  },
  {
   "cell_type": "code",
   "execution_count": null,
   "id": "7646a302",
   "metadata": {},
   "outputs": [],
   "source": []
  }
 ],
 "metadata": {
  "kernelspec": {
   "display_name": "Python 3 (ipykernel)",
   "language": "python",
   "name": "python3"
  },
  "language_info": {
   "codemirror_mode": {
    "name": "ipython",
    "version": 3
   },
   "file_extension": ".py",
   "mimetype": "text/x-python",
   "name": "python",
   "nbconvert_exporter": "python",
   "pygments_lexer": "ipython3",
   "version": "3.9.7"
  }
 },
 "nbformat": 4,
 "nbformat_minor": 5
}
