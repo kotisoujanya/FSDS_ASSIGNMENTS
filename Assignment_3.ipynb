{
 "cells": [
  {
   "cell_type": "markdown",
   "id": "68b88772",
   "metadata": {},
   "source": [
    "# 1. Why are functions advantageous to have in your programs?\n",
    "      \n",
    "      \n",
    "      Modularity and Reusability are two advantages of the functions in a program.\n",
    "       \n",
    "       "
   ]
  },
  {
   "cell_type": "markdown",
   "id": "cf9f02f5",
   "metadata": {},
   "source": [
    "# 2. When does the code in a function run: when it's specified or when it's called?\n",
    "\n",
    "       Code in the function runs when the function is called.\n",
    "       Function is not called automatically,it must be called explicitly by progrmmer."
   ]
  },
  {
   "cell_type": "markdown",
   "id": "e2d6c421",
   "metadata": {},
   "source": [
    "# 3. What statement creates a function?\n",
    "      \n",
    "      def keyword is used to create the function.\n",
    "      example:\n",
    "           def funname():\n",
    "                pass"
   ]
  },
  {
   "cell_type": "markdown",
   "id": "d997e256",
   "metadata": {},
   "source": [
    "# 4. What is the difference between a function and a function call?\n",
    "       \n",
    "       \n",
    "       A function consists of the def statement and the code in its def clause.\n",
    "\n",
    "       A function call is what moves the program execution into the function, and the function call evaluates to\n",
    "       the function's return value."
   ]
  },
  {
   "cell_type": "markdown",
   "id": "31a0b5ef",
   "metadata": {},
   "source": [
    "# 5. How many global scopes are there in a Python program? How many local scopes?\n",
    "       \n",
    "       \n",
    "       There's only one global Python scope per program execution. This scope remains in existence until the program\n",
    "       terminates , and a local scope is created whenever a function is called(we can use many number of functions)."
   ]
  },
  {
   "cell_type": "markdown",
   "id": "dfd27cb6",
   "metadata": {},
   "source": [
    "# 6. What happens to variables in a local scope when the function call returns?\n",
    "      \n",
    "      \n",
    "      Variables in local scope are destroyed when the function call returns."
   ]
  },
  {
   "cell_type": "markdown",
   "id": "075f0b82",
   "metadata": {},
   "source": [
    "# 7. What is the concept of a return value? Is it possible to have a return value in an expression?\n",
    "       \n",
    "       \n",
    "       \n",
    "       A Python function will always have a return value. There is no notion of procedure or routine in Python.\n",
    "       So, if you don't explicitly use a return value in a return statement, or if you totally omit the return\n",
    "       statement, then Python will implicitly return a default value for you."
   ]
  },
  {
   "cell_type": "markdown",
   "id": "9687dedf",
   "metadata": {},
   "source": [
    "# 8. If a function does not have a return statement, what is the return value of a call to that function?\n",
    "\n",
    "        If no return statement appears in a function definition, control automatically returns to the calling function\n",
    "        after the last statement of the called function is executed. In this case, the return value of the called function\n",
    "        is undefined."
   ]
  },
  {
   "cell_type": "markdown",
   "id": "17439a6a",
   "metadata": {},
   "source": [
    "# 9. How do you make a function variable refer to the global variable?\n",
    "\n",
    "      To make function variable as global variable ,you need to use the \"global\" keyword to declare which variables\n",
    "      are global."
   ]
  },
  {
   "cell_type": "markdown",
   "id": "7ad71174",
   "metadata": {},
   "source": [
    "# 10. What is the data type of None?\n",
    "       \n",
    "      The data type of None is NoneType.None is a data type of its own (NoneType) and only None can be None."
   ]
  },
  {
   "cell_type": "markdown",
   "id": "6a7af3e4",
   "metadata": {},
   "source": [
    "# 11. What does the sentence import areallyourpetsnamederic do?\n",
    "\n",
    "         That import statement imports a module named areallyourpetsnamederic.(but its not a python module)."
   ]
  },
  {
   "cell_type": "code",
   "execution_count": 14,
   "id": "1c64dae4",
   "metadata": {},
   "outputs": [
    {
     "ename": "ModuleNotFoundError",
     "evalue": "No module named 'areallyourpetsnamederic'",
     "output_type": "error",
     "traceback": [
      "\u001b[1;31m---------------------------------------------------------------------------\u001b[0m",
      "\u001b[1;31mModuleNotFoundError\u001b[0m                       Traceback (most recent call last)",
      "Input \u001b[1;32mIn [14]\u001b[0m, in \u001b[0;36m<cell line: 1>\u001b[1;34m()\u001b[0m\n\u001b[1;32m----> 1\u001b[0m \u001b[38;5;28;01mimport\u001b[39;00m \u001b[38;5;21;01mareallyourpetsnamederic\u001b[39;00m\n",
      "\u001b[1;31mModuleNotFoundError\u001b[0m: No module named 'areallyourpetsnamederic'"
     ]
    }
   ],
   "source": [
    "import areallyourpetsnamederic"
   ]
  },
  {
   "cell_type": "markdown",
   "id": "527daea1",
   "metadata": {},
   "source": [
    "# 12. If you had a bacon() feature in a spam module, what would you call it after importing spam?\n",
    "\n",
    "         import spam\n",
    "         spam.bacon()\n",
    "         \n",
    "         or\n",
    "         from spam import bacon()\n",
    "         bacon()\n",
    "         \n",
    "         or \n",
    "         import spam as sp\n",
    "         sp.bacon()\n",
    "         \n",
    "         or\n",
    "         from spam import *\n",
    "         bacon()"
   ]
  },
  {
   "cell_type": "markdown",
   "id": "507e843d",
   "metadata": {},
   "source": [
    "# 13. What can you do to save a programme from crashing if it encounters an error?\n",
    "\n",
    "\n",
    "       By using the try and except clausees ,you can save a programme from crashing ."
   ]
  },
  {
   "cell_type": "markdown",
   "id": "70640e81",
   "metadata": {},
   "source": [
    "# 14. What is the purpose of the try clause? What is the purpose of the except clause?\n",
    "\n",
    "      The try and except block in Python is used to catch and handle exceptions. Python executes code following the\n",
    "      try statement as a “normal” part of the program. The code that follows the except statement is the program's\n",
    "      response to any exceptions in the preceding try clause."
   ]
  },
  {
   "cell_type": "code",
   "execution_count": null,
   "id": "5be0e494",
   "metadata": {},
   "outputs": [],
   "source": []
  }
 ],
 "metadata": {
  "kernelspec": {
   "display_name": "Python 3 (ipykernel)",
   "language": "python",
   "name": "python3"
  },
  "language_info": {
   "codemirror_mode": {
    "name": "ipython",
    "version": 3
   },
   "file_extension": ".py",
   "mimetype": "text/x-python",
   "name": "python",
   "nbconvert_exporter": "python",
   "pygments_lexer": "ipython3",
   "version": "3.9.7"
  }
 },
 "nbformat": 4,
 "nbformat_minor": 5
}
