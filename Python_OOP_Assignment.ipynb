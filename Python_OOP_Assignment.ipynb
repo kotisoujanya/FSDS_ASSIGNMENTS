{
 "cells": [
  {
   "cell_type": "markdown",
   "id": "f95b22bc",
   "metadata": {},
   "source": [
    "# Q1. What is the purpose of Python's OOP?\n",
    "        \n",
    "        In Python, object-oriented Programming (OOPs) is a programming paradigm that uses objects and classes\n",
    "        in programming. It aims to implement real-world entities like inheritance, polymorphisms, encapsulation,\n",
    "        etc. in the programming."
   ]
  },
  {
   "cell_type": "markdown",
   "id": "1edbb67e",
   "metadata": {},
   "source": [
    "\n",
    "# Q2. Where does an inheritance search look for an attribute?"
   ]
  },
  {
   "cell_type": "markdown",
   "id": "9ebc9f42",
   "metadata": {},
   "source": [
    "# Q3. How do you distinguish between a class object and an instance object?"
   ]
  },
  {
   "cell_type": "markdown",
   "id": "2cfa18a7",
   "metadata": {},
   "source": [
    "# Q4. What makes the first argument in a class’s method function special?"
   ]
  },
  {
   "cell_type": "markdown",
   "id": "d0d489b2",
   "metadata": {},
   "source": [
    "# Q5. What is the purpose of the init method?\n",
    "\n",
    "       __init__ method is a special method and also knon as constructor,\n",
    "       constructor is called automatically whenever an object is created,This method is called when an object\n",
    "       is created from a class and it allows the class to initialize the attributes of the class."
   ]
  },
  {
   "cell_type": "code",
   "execution_count": 2,
   "id": "4dfd618e",
   "metadata": {},
   "outputs": [
    {
     "name": "stdout",
     "output_type": "stream",
     "text": [
      "constructor\n"
     ]
    }
   ],
   "source": [
    "#example\n",
    "class A:\n",
    "    def __init__(self):\n",
    "        print(\"constructor\")\n",
    "a=A()  # when ever object is created automatically constructor called\n"
   ]
  },
  {
   "cell_type": "code",
   "execution_count": 6,
   "id": "c40bce10",
   "metadata": {},
   "outputs": [
    {
     "name": "stdout",
     "output_type": "stream",
     "text": [
      "3\n"
     ]
    }
   ],
   "source": [
    "class A:\n",
    "    def __init__(self,a,b):\n",
    "        print(a+b)\n",
    "b=A(1,2)   #initialzing the attributes of the class"
   ]
  },
  {
   "cell_type": "markdown",
   "id": "9db65ecd",
   "metadata": {},
   "source": [
    "# Q6. What is the process for creating a class instance?\n",
    "         \n",
    "         Class instance ------> An object is an instance of a class\n",
    "          \n",
    "         For creating the class instance(object ),you call the class using class name and pass in whatever\n",
    "         arguments its __init__ method accepts."
   ]
  },
  {
   "cell_type": "code",
   "execution_count": 13,
   "id": "450c8680",
   "metadata": {},
   "outputs": [
    {
     "name": "stdout",
     "output_type": "stream",
     "text": [
      "created class instance-->object\n",
      "arguments passing by class instance (constructor) 2 3\n"
     ]
    },
    {
     "data": {
      "text/plain": [
       "5"
      ]
     },
     "execution_count": 13,
     "metadata": {},
     "output_type": "execute_result"
    }
   ],
   "source": [
    "#example\n",
    "class A:\n",
    "    def __init__(self,a,b):   #when ever you created class instance(object) a=A(arugments) automatically constructor called\n",
    "        self.a=a\n",
    "        self.b=b\n",
    "        print(\"created class instance-->object\")\n",
    "        print(\"arguments passing by class instance (constructor)\",a,b)\n",
    "    def add(self):\n",
    "        return self.a+self.b\n",
    "a=A(2,3) #--------------> created the class instance\n",
    "a.add()"
   ]
  },
  {
   "cell_type": "markdown",
   "id": "aee3364b",
   "metadata": {},
   "source": [
    "# Q7. What is the process for creating a class?"
   ]
  },
  {
   "cell_type": "markdown",
   "id": "1abe2dae",
   "metadata": {},
   "source": [
    "# Q8. How would you define the superclasses of a class?\n",
    "\n",
    "        A superclass is the class from which many subclasses can be created. The subclasses inherit the characteristics\n",
    "        of a superclass. The superclass is also known as the parent class or base class."
   ]
  },
  {
   "cell_type": "code",
   "execution_count": 45,
   "id": "b97359ff",
   "metadata": {},
   "outputs": [
    {
     "name": "stdout",
     "output_type": "stream",
     "text": [
      "class A-----> Super class (or) parent class (or) base class\n",
      "class B -----> subclass (or) child class\n",
      "class c -----> subclass (or) derived class\n"
     ]
    }
   ],
   "source": [
    "#example\n",
    "class A:\n",
    "    print(\"class A-----> Super class (or) parent class (or) base class\")\n",
    "class B(A):\n",
    "    print(\"class B -----> subclass (or) child class\")\n",
    "class C(A):\n",
    "    print(\"class c -----> subclass (or) derived class\")\n",
    "a=A()\n"
   ]
  },
  {
   "cell_type": "markdown",
   "id": "fc03a34e",
   "metadata": {},
   "source": [
    "# Q9. What is the relationship between classes and modules?\n",
    "\n",
    "       Modules are collections of methods and constants. They cannot generate instances. Classes may generate\n",
    "       instances (objects), and have per-instance state (instance variables)."
   ]
  },
  {
   "cell_type": "code",
   "execution_count": 24,
   "id": "6609950a",
   "metadata": {},
   "outputs": [
    {
     "name": "stdout",
     "output_type": "stream",
     "text": [
      "addition of 20 and 30 is 50\n"
     ]
    }
   ],
   "source": [
    "#example\n",
    "import math \n",
    "math.sqrt(55)  #here sqrt() is the function defined in math module\n",
    "\n",
    "#=====================================================================================\n",
    "\n",
    "class A: \n",
    "    def display(self,a,b):\n",
    "        print(f\"addition of {a} and {b} is\",a+b)\n",
    "a=A()\n",
    "a.display(20,30)"
   ]
  },
  {
   "cell_type": "markdown",
   "id": "c273ab5f",
   "metadata": {},
   "source": [
    "# Q10. How do you make instances and classes?\n",
    "\n",
    "\n",
    "         "
   ]
  },
  {
   "cell_type": "code",
   "execution_count": 78,
   "id": "c2c06b78",
   "metadata": {},
   "outputs": [
    {
     "name": "stdout",
     "output_type": "stream",
     "text": [
      "created instance and class\n"
     ]
    }
   ],
   "source": [
    "class A:  #================> class created\n",
    "    def __init__(self):\n",
    "        print(\"created instance and class\")\n",
    "a=A()   # ================> instance created"
   ]
  },
  {
   "cell_type": "markdown",
   "id": "af4e2b21",
   "metadata": {},
   "source": [
    "# Q11. Where and how should be class attributes created?\n",
    "\n",
    "         Class attributes belong to the class itself they will be shared by all the instances. Such attributes are\n",
    "         defined in the class body parts usually at the top"
   ]
  },
  {
   "cell_type": "code",
   "execution_count": 79,
   "id": "2d5fce5a",
   "metadata": {},
   "outputs": [
    {
     "name": "stdout",
     "output_type": "stream",
     "text": [
      "1\n",
      "2\n",
      "2\n"
     ]
    }
   ],
   "source": [
    "#example\n",
    "class sampleclass:\n",
    "    count = 0     # class attribute \n",
    "    def increase(self):\n",
    "        sampleclass.count += 1\n",
    "s1 = sampleclass()\n",
    "s1.increase()        \n",
    "print(s1.count)  \n",
    "# Calling increase on one more\n",
    "# object\n",
    "s2 = sampleclass()\n",
    "s2.increase()\n",
    "print(s2.count)  \n",
    "print(sampleclass.count)"
   ]
  },
  {
   "cell_type": "markdown",
   "id": "eb8c443a",
   "metadata": {},
   "source": [
    "# Q12. Where and how are instance attributes created?\n",
    "\n",
    "\n",
    "        A variable(attribute) that is defined in a method  or constructor with self parameter is called as an instance\n",
    "        variable,\n",
    "        Instance variable can be accessed in a method or constructor by using self.\n",
    "        Instance variable can be accessed in a method or constructor by using object or object reference\n",
    "        Instance variable can be accessed outside the class by using an object or object reference.\n",
    "        Instance variable cann't be accessed outside the class by using self because self is a local variable.\n",
    "        Separate copy of instance variable exist for every object.\n",
    "        Use instance variable if the value is different for objects.\n",
    "        "
   ]
  },
  {
   "cell_type": "code",
   "execution_count": 86,
   "id": "ee288d1f",
   "metadata": {},
   "outputs": [
    {
     "name": "stdout",
     "output_type": "stream",
     "text": [
      "1 souji 50\n",
      "2 laxmi 60\n"
     ]
    }
   ],
   "source": [
    "#example\n",
    "class student:\n",
    "    def __init__(self,roll_no,name,marks):\n",
    "        self.roll_no=roll_no\n",
    "        self.name=name\n",
    "        self.marks=marks\n",
    "    def display(self):\n",
    "        print(self.roll_no,self.name,self.marks)\n",
    "a1=student(1,\"souji\",50)\n",
    "a1.display()\n",
    "a2=student(2,'laxmi',60)\n",
    "a2.display()\n",
    "        "
   ]
  },
  {
   "cell_type": "markdown",
   "id": "3bba75df",
   "metadata": {},
   "source": [
    "# Q13. What does the term \"self\" in a Python class mean?\n",
    "\n",
    "           The self parameter is a reference to the current instance of the class, and is used to access \n",
    "           variables that belongs to the class."
   ]
  },
  {
   "cell_type": "markdown",
   "id": "7b36e8f6",
   "metadata": {},
   "source": [
    "# Q14. How does a Python class handle operator overloading?\n",
    "\n",
    "      "
   ]
  },
  {
   "cell_type": "markdown",
   "id": "2caf8f65",
   "metadata": {},
   "source": [
    "# Q15. When do you consider allowing operator overloading of your classes?\n",
    "\n",
    "        This feature allows to overload operator to work on object's data."
   ]
  },
  {
   "cell_type": "markdown",
   "id": "b4aa494a",
   "metadata": {},
   "source": [
    "# Q16. What is the most popular form of operator overloading?\n",
    "\n",
    "\n",
    "       Operator Overloading means giving extended meaning beyond their predefined operational meaning. \n",
    "       For example operator + is used to add two integers as well as join two strings and merge two lists.\n",
    "       It is achievable because ‘+’ operator is overloaded by int class and str class. You might have noticed\n",
    "       that the same built-in operator or function shows different behavior for objects of different classes,\n",
    "       this is called Operator Overloading. "
   ]
  },
  {
   "cell_type": "markdown",
   "id": "bb4738d7",
   "metadata": {},
   "source": [
    "# Q17. What are the two most important concepts to grasp in order to comprehend Python OOP code?\n",
    "\n",
    "       we will elaborate on two key concepts of OOP which are inheritance and polymorphism. Both inheritance and\n",
    "       polymorphism are key ingredients for designing robust, flexible, and easy-to-maintain software."
   ]
  },
  {
   "cell_type": "markdown",
   "id": "cb1595d9",
   "metadata": {},
   "source": [
    "# Q18. Describe three applications for exception processing."
   ]
  },
  {
   "cell_type": "markdown",
   "id": "f0d25b18",
   "metadata": {},
   "source": [
    "# Q19. What happens if you don't do something extra to treat an exception?\n",
    "         \n",
    "         When an exception occurred, if you don't handle it, the program terminates abruptly and the code past the line \n",
    "         that caused the exception will not get executed."
   ]
  },
  {
   "cell_type": "markdown",
   "id": "c07d89c9",
   "metadata": {},
   "source": [
    "# Q20. What are your options for recovering from an exception in your script?"
   ]
  },
  {
   "cell_type": "markdown",
   "id": "4c145c4a",
   "metadata": {},
   "source": [
    "# Q21. Describe two methods for triggering exceptions in your script.\n",
    "\n",
    "       To handle Python exceptions: Try – This method catches the exceptions raised by the program.\n",
    "       Raise – Triggers an exception manually using custom exceptions."
   ]
  },
  {
   "cell_type": "markdown",
   "id": "532803aa",
   "metadata": {},
   "source": [
    "# Q22. Identify two methods for specifying actions to be executed at termination time, regardless of whether or not an exception exists."
   ]
  },
  {
   "cell_type": "markdown",
   "id": "91274248",
   "metadata": {},
   "source": [
    "# Q23. What is the purpose of the try statement?\n",
    "       \n",
    "       The try block lets you test a block of code for errors. The except block lets you handle the error.\n",
    "       The else block lets you execute code when there is no error."
   ]
  },
  {
   "cell_type": "markdown",
   "id": "c175967e",
   "metadata": {},
   "source": [
    "# Q24. What are the two most popular try statement variations?\n",
    "\n",
    "        The Different Try/Except Variations. So far we've used a try / except and even a try / except / except ,\n",
    "        but this is only two-thirds of the story. There are two other optional segments to a try block: else and\n",
    "        finally . Both of these optional blocks will come after the try and the except ."
   ]
  },
  {
   "cell_type": "markdown",
   "id": "91e6bb4a",
   "metadata": {},
   "source": [
    "# Q25. What is the purpose of the raise statement?\n",
    "      \n",
    "      The raise keyword is used to raise an exception. You can define what kind of error to raise,\n",
    "      and the text to print to the user."
   ]
  },
  {
   "cell_type": "markdown",
   "id": "9c967c5d",
   "metadata": {},
   "source": [
    "# Q26. What does the assert statement do, and what other statement is it like?\n",
    "\n",
    "       An assert statement consists of the assert keyword, the expression or condition to test, and an optional message.\n",
    "       The condition is supposed to always be true. If the assertion condition is true, then nothing happens, and your \n",
    "       program continues its normal execution."
   ]
  },
  {
   "cell_type": "markdown",
   "id": "edd33fd6",
   "metadata": {},
   "source": [
    "# Q27. What is the purpose of the with/as argument, and what other statement is it like?\n",
    "\n",
    "      In Python, with statement is used in exception handling to make the code cleaner and much more readable. It simplifies the management of common resources like file streams."
   ]
  },
  {
   "cell_type": "markdown",
   "id": "3cac9d94",
   "metadata": {},
   "source": [
    "# Q28. What are *args, **kwargs?\n",
    "\n",
    "\n",
    "       *args:\n",
    "       The special syntax *args in function definitions in python is used to pass a variable number of arguments\n",
    "       to a function. It is used to pass a non-key worded, variable-length argument list. \n",
    "       The syntax is to use the symbol * to take in a variable number of arguments; by convention, it is often used \n",
    "       with the word args.\n",
    "       What *args allows you to do is take in more arguments than the number of formal arguments that you previously\n",
    "       defined. With *args, any number of extra arguments can be tacked on to your current formal parameters\n",
    "       (including zero extra arguments).\n",
    "       For example, we want to make a multiply function that takes any number of arguments and is able to multiply\n",
    "       them all together. It can be done using *args.\n",
    "       Using the *, the variable that we associate with the * becomes an iterable meaning you can do things like iterate\n",
    "       over it, run some higher-order functions such as map and filter, etc.\n",
    "       \n",
    "       **kwargs:\n",
    "       The special syntax **kwargs in function definitions in python is used to pass a keyworded, variable-length \n",
    "       argument list. We use the name kwargs with the double star. The reason is that the double star allows us to\n",
    "       pass through keyword arguments (and any number of them).\n",
    "\n",
    "       A keyword argument is where you provide a name to the variable as you pass it into the function.\n",
    "       One can think of the kwargs as being a dictionary that maps each keyword to the value that we pass alongside it.\n",
    "       That is why when we iterate over the kwargs there doesn’t seem to be any order in which they were printed out."
   ]
  },
  {
   "cell_type": "markdown",
   "id": "64bb18d6",
   "metadata": {},
   "source": [
    "# Q29. How can I pass optional or keyword parameters from one function to another?"
   ]
  },
  {
   "cell_type": "code",
   "execution_count": 95,
   "id": "bd8191e8",
   "metadata": {},
   "outputs": [
    {
     "name": "stdout",
     "output_type": "stream",
     "text": [
      "5 6 654 54 54\n"
     ]
    }
   ],
   "source": [
    "def add(*args):\n",
    "    print(*args)\n",
    "add(5,6,654,54,54)"
   ]
  },
  {
   "cell_type": "markdown",
   "id": "d967422d",
   "metadata": {},
   "source": [
    "# Q30. What are Lambda Functions?\n",
    "\n",
    "      This feature allows to create anonymous functions.\n",
    "      \n",
    "      A function which has no name is called as anonymous function,Normal function can be defined by using def\n",
    "      keyword where as lambda function can be defined by using \"lambda\" keyword.\n",
    "      lambda functions are useful in functional programming\n",
    "      Functional programming means function can be passes as a parameter to another function.\n",
    "      Instead of function name,function logic can be passes as aparameter with this feature.\n",
    "      syntax to create lambda function:\n",
    "           \n",
    "           return type=lambda parameters : expression\n",
    "      \n",
    "      "
   ]
  },
  {
   "cell_type": "code",
   "execution_count": 65,
   "id": "c57c998c",
   "metadata": {},
   "outputs": [
    {
     "name": "stdout",
     "output_type": "stream",
     "text": [
      "125\n"
     ]
    }
   ],
   "source": [
    "#example   print the given number of cube\n",
    "x=lambda a : a*a*a    # x is an anonymous function reference\n",
    "y=print(x(5))    "
   ]
  },
  {
   "cell_type": "markdown",
   "id": "559d28c0",
   "metadata": {},
   "source": [
    "# Q31. Explain Inheritance in Python with an example?\n",
    "     \n",
    "     Creating a new class from an existing class is as inheritance.Inheritance allows us to define a class that inherits\n",
    "     all the methods and properties from another class. Parent class is the class being inherited from, also called base\n",
    "     class. Child class is the class that inherits from another class, also called derived class.\n",
    "     uses:\n",
    "     To extend the functionality of existing class.\n",
    "     to modify existed class\n",
    "     To reuse existed class features."
   ]
  },
  {
   "cell_type": "code",
   "execution_count": 69,
   "id": "c3eb75a5",
   "metadata": {},
   "outputs": [
    {
     "name": "stdout",
     "output_type": "stream",
     "text": [
      "B class\n",
      "A class\n"
     ]
    }
   ],
   "source": [
    "#example\n",
    "class A:\n",
    "    def show(self):\n",
    "        print(\"A class\")\n",
    "class B(A):\n",
    "    def display(self):\n",
    "        print(\"B class\")\n",
    "b=B()\n",
    "b.display() \n",
    "b.show()    # inherited the features of class A into class B"
   ]
  },
  {
   "cell_type": "markdown",
   "id": "1c75ca44",
   "metadata": {},
   "source": [
    "# Q32. Suppose class C inherits from classes A and B as class C(A,B).Classes A and B both have their own versions of method func(). If we call func() from an object of class C, which version gets invoked?\n",
    "\n",
    "        "
   ]
  },
  {
   "cell_type": "code",
   "execution_count": 70,
   "id": "1b05e587",
   "metadata": {},
   "outputs": [
    {
     "name": "stdout",
     "output_type": "stream",
     "text": [
      "class A\n"
     ]
    }
   ],
   "source": [
    "class A:\n",
    "    def func(self):\n",
    "        print(\"class A\")\n",
    "class B:\n",
    "    def func(self):\n",
    "        print(\"class B\")\n",
    "class C(A,B):\n",
    "    def display(self):\n",
    "        print(\"class c\")\n",
    "c=C()\n",
    "c.func()"
   ]
  },
  {
   "cell_type": "markdown",
   "id": "50795dc0",
   "metadata": {},
   "source": [
    "\n",
    "# Q33. Which methods/functions do we use to determine the type of instance and inheritance?\n",
    "\n",
    "        Two built-in functions isinstance() and issubclass() are used to check inheritances. The function isinstance()\n",
    "        returns True if the object is an instance of the class or other classes derived from it.\n",
    "        \n",
    "        Use isinstance() to check an instance's type: isinstance(obj, int) will be True only if obj.__class__ is int or\n",
    "        some class derived from int .\n",
    "        Use issubclass() to check class inheritance: issubclass(bool, int) is True since bool is a subclass of int ."
   ]
  },
  {
   "cell_type": "code",
   "execution_count": 71,
   "id": "e1a63d31",
   "metadata": {},
   "outputs": [
    {
     "name": "stdout",
     "output_type": "stream",
     "text": [
      "checking the which class is inharited :  True\n",
      "<class 'str'>\n",
      "checking the object is which type :  True\n"
     ]
    }
   ],
   "source": [
    "#example\n",
    "class A:\n",
    "    pass\n",
    "class B(A):\n",
    "    def display(self):\n",
    "        print(\"class B\")\n",
    "print(\"checking the which class is inharited : \",issubclass(B,A))   #checking the which class\n",
    "#=================================================================\n",
    "\n",
    "s=\"hello\"\n",
    "print(type(s))\n",
    "print(\"checking the object is which type : \",isinstance(s,str))    # s is the object and derived from the string class"
   ]
  },
  {
   "cell_type": "markdown",
   "id": "1b1e5f07",
   "metadata": {},
   "source": [
    "# Q34.Explain the use of the 'nonlocal' keyword in Python.\n",
    "     \n",
    "     The nonlocal keyword is used to work with variables inside nested functions, where the variable should not belong\n",
    "     to the inner function. Use the keyword nonlocal to declare that the variable is not local."
   ]
  },
  {
   "cell_type": "code",
   "execution_count": 76,
   "id": "6905376a",
   "metadata": {},
   "outputs": [
    {
     "name": "stdout",
     "output_type": "stream",
     "text": [
      "GeekForGeeks\n",
      "geek\n",
      "\n",
      "Geek\n",
      "GEEK\n",
      "geek\n"
     ]
    }
   ],
   "source": [
    "#example\n",
    "def foo():\n",
    "    name = \"geek\"           # Our local variable\n",
    "    def bar():\n",
    "        #nonlocal name            # Reference name in the upper scope\n",
    "        name = 'GeekForGeeks'    # Overwrite this variable\n",
    "        print(name)                             # Calling inner function\n",
    "    bar()\n",
    "    print(name)                     # Printing local variabl    \n",
    "foo()\n",
    "\n",
    "print()\n",
    "#===========================================================================================\n",
    "\n",
    "def foo(): # Local variable of foo()\n",
    "    name = \"geek\"\n",
    "    # First inner function\n",
    "    def bar():\n",
    "        name = \"Geek\"\n",
    "        # Second inner function\n",
    "        def ack():\n",
    "            nonlocal name # Reference to the next upper variable with this name\n",
    "            print(name)   # Print the value of the referenced variable\n",
    "            name = 'GEEK' # Overwrite the referenced variable\n",
    "            print(name)\n",
    "        ack() # Calling second inner function\n",
    "    bar() # Calling first inner function\n",
    "    print(name) # Printing local variable of bar()\n",
    "foo()"
   ]
  },
  {
   "cell_type": "markdown",
   "id": "c8247912",
   "metadata": {},
   "source": [
    "# Q35. What is the global keyword?\n",
    "\n",
    "        global keyword used to access a global variable to modify in a function(local variable)."
   ]
  },
  {
   "cell_type": "code",
   "execution_count": 2,
   "id": "2a40a3d5",
   "metadata": {},
   "outputs": [
    {
     "name": "stdout",
     "output_type": "stream",
     "text": [
      "20\n",
      "10\n"
     ]
    }
   ],
   "source": [
    "#example\n",
    "a=10  #-------------------> global variable\n",
    "def show():\n",
    "    a=20  #--------------> local variable\n",
    "    print(a)\n",
    "show()\n",
    "print(a)"
   ]
  },
  {
   "cell_type": "code",
   "execution_count": 8,
   "id": "8eccb6fe",
   "metadata": {},
   "outputs": [
    {
     "name": "stdout",
     "output_type": "stream",
     "text": [
      "15\n",
      "15\n"
     ]
    }
   ],
   "source": [
    "#\n",
    "a=10\n",
    "def show():\n",
    "    global a   # accessing global variable \n",
    "    a+=5\n",
    "    print(a)\n",
    "show()\n",
    "print(a)"
   ]
  },
  {
   "cell_type": "code",
   "execution_count": null,
   "id": "80a703d7",
   "metadata": {},
   "outputs": [],
   "source": []
  }
 ],
 "metadata": {
  "kernelspec": {
   "display_name": "Python 3 (ipykernel)",
   "language": "python",
   "name": "python3"
  },
  "language_info": {
   "codemirror_mode": {
    "name": "ipython",
    "version": 3
   },
   "file_extension": ".py",
   "mimetype": "text/x-python",
   "name": "python",
   "nbconvert_exporter": "python",
   "pygments_lexer": "ipython3",
   "version": "3.9.7"
  }
 },
 "nbformat": 4,
 "nbformat_minor": 5
}
