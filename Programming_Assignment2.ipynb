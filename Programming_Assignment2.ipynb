{
 "cells": [
  {
   "cell_type": "markdown",
   "id": "0e25c23d",
   "metadata": {},
   "source": [
    "# 1.\tWrite a Python program to convert kilometers to miles?"
   ]
  },
  {
   "cell_type": "code",
   "execution_count": 2,
   "id": "1400d656",
   "metadata": {},
   "outputs": [
    {
     "name": "stdout",
     "output_type": "stream",
     "text": [
      "enter kilometers: 5\n",
      "miles  3.105\n"
     ]
    }
   ],
   "source": [
    "def km_to_miles(kilometers):\n",
    "    return kilometers*0.621\n",
    "k=float(input(\"enter kilometers: \"))\n",
    "print(\"miles \",km_to_miles(k))"
   ]
  },
  {
   "cell_type": "markdown",
   "id": "253867ff",
   "metadata": {},
   "source": [
    "# 2.\tWrite a Python program to convert Celsius to Fahrenheit?"
   ]
  },
  {
   "cell_type": "code",
   "execution_count": 6,
   "id": "2e8aa73d",
   "metadata": {},
   "outputs": [
    {
     "name": "stdout",
     "output_type": "stream",
     "text": [
      "enter celsius in degrees: 3\n",
      "Fahrenheit in degrees:  37.4\n",
      "enter celsius in degrees: 3\n",
      "fahrenheit:  37.4\n"
     ]
    }
   ],
   "source": [
    "#formula for convert celsius to fahrenheit   F = C×(9/5)+32\n",
    "def celsius_to_fahrenheit(celsius):\n",
    "    return celsius*(9/5)+32\n",
    "c=float(input(\"enter celsius in degrees: \"))\n",
    "print(\"Fahrenheit in degrees: \",celsius_to_fahrenheit(c))\n",
    "\n",
    "#another way\n",
    "c=float(input(\"enter celsius in degrees: \"))\n",
    "f=c*(9/5)+32\n",
    "print(\"fahrenheit: \",f)"
   ]
  },
  {
   "cell_type": "markdown",
   "id": "052e8588",
   "metadata": {},
   "source": [
    "# 3.\tWrite a Python program to display calendar?"
   ]
  },
  {
   "cell_type": "code",
   "execution_count": 13,
   "id": "95538882",
   "metadata": {},
   "outputs": [
    {
     "name": "stdout",
     "output_type": "stream",
     "text": [
      "enter year(yyyy): 2555\n",
      "enter month(mm): 10\n",
      "    October 2555\n",
      "Mo Tu We Th Fr Sa Su\n",
      "       1  2  3  4  5\n",
      " 6  7  8  9 10 11 12\n",
      "13 14 15 16 17 18 19\n",
      "20 21 22 23 24 25 26\n",
      "27 28 29 30 31\n",
      "\n"
     ]
    }
   ],
   "source": [
    "import calendar                  #displaying wanted month\n",
    "year=int(input(\"enter year(yyyy): \"))\n",
    "month=int(input(\"enter month(mm): \"))\n",
    "print(calendar.month(year,month))"
   ]
  },
  {
   "cell_type": "code",
   "execution_count": 14,
   "id": "2ac323fe",
   "metadata": {},
   "outputs": [
    {
     "name": "stdout",
     "output_type": "stream",
     "text": [
      "                                  2555\n",
      "\n",
      "      January                   February                   March\n",
      "Mo Tu We Th Fr Sa Su      Mo Tu We Th Fr Sa Su      Mo Tu We Th Fr Sa Su\n",
      "       1  2  3  4  5                      1  2                      1  2\n",
      " 6  7  8  9 10 11 12       3  4  5  6  7  8  9       3  4  5  6  7  8  9\n",
      "13 14 15 16 17 18 19      10 11 12 13 14 15 16      10 11 12 13 14 15 16\n",
      "20 21 22 23 24 25 26      17 18 19 20 21 22 23      17 18 19 20 21 22 23\n",
      "27 28 29 30 31            24 25 26 27 28            24 25 26 27 28 29 30\n",
      "                                                    31\n",
      "\n",
      "       April                      May                       June\n",
      "Mo Tu We Th Fr Sa Su      Mo Tu We Th Fr Sa Su      Mo Tu We Th Fr Sa Su\n",
      "    1  2  3  4  5  6                1  2  3  4                         1\n",
      " 7  8  9 10 11 12 13       5  6  7  8  9 10 11       2  3  4  5  6  7  8\n",
      "14 15 16 17 18 19 20      12 13 14 15 16 17 18       9 10 11 12 13 14 15\n",
      "21 22 23 24 25 26 27      19 20 21 22 23 24 25      16 17 18 19 20 21 22\n",
      "28 29 30                  26 27 28 29 30 31         23 24 25 26 27 28 29\n",
      "                                                    30\n",
      "\n",
      "        July                     August                  September\n",
      "Mo Tu We Th Fr Sa Su      Mo Tu We Th Fr Sa Su      Mo Tu We Th Fr Sa Su\n",
      "    1  2  3  4  5  6                   1  2  3       1  2  3  4  5  6  7\n",
      " 7  8  9 10 11 12 13       4  5  6  7  8  9 10       8  9 10 11 12 13 14\n",
      "14 15 16 17 18 19 20      11 12 13 14 15 16 17      15 16 17 18 19 20 21\n",
      "21 22 23 24 25 26 27      18 19 20 21 22 23 24      22 23 24 25 26 27 28\n",
      "28 29 30 31               25 26 27 28 29 30 31      29 30\n",
      "\n",
      "      October                   November                  December\n",
      "Mo Tu We Th Fr Sa Su      Mo Tu We Th Fr Sa Su      Mo Tu We Th Fr Sa Su\n",
      "       1  2  3  4  5                      1  2       1  2  3  4  5  6  7\n",
      " 6  7  8  9 10 11 12       3  4  5  6  7  8  9       8  9 10 11 12 13 14\n",
      "13 14 15 16 17 18 19      10 11 12 13 14 15 16      15 16 17 18 19 20 21\n",
      "20 21 22 23 24 25 26      17 18 19 20 21 22 23      22 23 24 25 26 27 28\n",
      "27 28 29 30 31            24 25 26 27 28 29 30      29 30 31\n",
      "\n"
     ]
    }
   ],
   "source": [
    "import calendar\n",
    "print(calendar.calendar(2555))     #displaying entire year calendar"
   ]
  },
  {
   "cell_type": "markdown",
   "id": "25a26323",
   "metadata": {},
   "source": [
    "# 4.\tWrite a Python program to solve quadratic equation?"
   ]
  },
  {
   "cell_type": "code",
   "execution_count": 22,
   "id": "f90f028c",
   "metadata": {},
   "outputs": [
    {
     "name": "stdout",
     "output_type": "stream",
     "text": [
      "enter a1 value: 1\n",
      "enter b1 value: 10\n",
      "enter c1 value: -24\n",
      "real roots and different: \n",
      "-12.0\n",
      "2.0\n",
      "enter a value: 1\n",
      "enter b value: 10\n",
      "enter c value: -24\n",
      "roots are: \n",
      "(-12+0j) (2+0j)\n"
     ]
    }
   ],
   "source": [
    "#formula for roots of the quadratic equation is  # root1=-b+sqrt(b**2-4ac)/2*a ,root2=# x=-b-sqrt(b**2-4ac)/2*a\n",
    "import math\n",
    "def quadratic_roots(a,b,c):\n",
    "    # calculating discriminant using formula\n",
    "    dis=b**2-4*a*c\n",
    "    sqrt_val=math.sqrt(abs(dis))\n",
    "    #checking the condition \n",
    "    if dis > 0:\n",
    "        print(\"real roots and different: \")\n",
    "        print((-b-sqrt_val)/(2*a))\n",
    "        print((-b+sqrt_val)/(2*a))\n",
    "    elif dis == 0:\n",
    "        print(\"roots are real and equal: \")\n",
    "        print((-b/(2*a)))\n",
    "    else:\n",
    "        print(\"roots are complex: \")\n",
    "        print(-b/(2*a),\"-i\",sqrt_val)\n",
    "        print(-b/(2*a),\"+i\",sqrt_val)\n",
    "a1=int(input(\"enter a1 value: \"))\n",
    "b1=int(input(\"enter b1 value: \"))\n",
    "c1=int(input(\"enter c1 value: \"))\n",
    "if a1 == 0:\n",
    "    print(\"enter correct input value(non_zero)\")\n",
    "else:\n",
    "    quadratic_roots(a1,b1,c1)\n",
    "    \n",
    "#=================================================================================================\n",
    "#another way \n",
    "import cmath\n",
    "a=int(input(\"enter a value: \"))\n",
    "b=int(input(\"enter b value: \"))\n",
    "c=int(input(\"enter c value: \"))\n",
    "dis = (b*b) - (4*a*c)\n",
    "ans1 = (-b-cmath.sqrt(dis))/(2*a)\n",
    "ans2 = (-b+cmath.sqrt(dis))/(2*a)\n",
    "print(\"roots are: \")\n",
    "print(ans1,ans2)\n",
    "       "
   ]
  },
  {
   "cell_type": "code",
   "execution_count": 25,
   "id": "ce8e4db2",
   "metadata": {},
   "outputs": [
    {
     "name": "stdout",
     "output_type": "stream",
     "text": [
      "First Variable =20\n",
      "Second Variable =50\n",
      "Before swap: \n",
      "First Variable 20\n",
      "Second variable 50\n",
      "After Swap :\n",
      "First Variabe : 50 \n",
      "Second Variable : 20\n"
     ]
    }
   ],
   "source": [
    "first_variable = int(input(\"First Variable =\"))\n",
    "second_variable = int(input(\"Second Variable =\"))\n",
    "print(f\"Before swap: \\nFirst Variable {first_variable}\\nSecond variable {second_variable}\")\n",
    "first_variable , second_variable = second_variable , first_variable\n",
    "\n",
    "print(f\"After Swap :\\nFirst Variabe : {first_variable} \\nSecond Variable : {second_variable}\")"
   ]
  },
  {
   "cell_type": "code",
   "execution_count": null,
   "id": "6d694522",
   "metadata": {},
   "outputs": [],
   "source": []
  }
 ],
 "metadata": {
  "kernelspec": {
   "display_name": "Python 3 (ipykernel)",
   "language": "python",
   "name": "python3"
  },
  "language_info": {
   "codemirror_mode": {
    "name": "ipython",
    "version": 3
   },
   "file_extension": ".py",
   "mimetype": "text/x-python",
   "name": "python",
   "nbconvert_exporter": "python",
   "pygments_lexer": "ipython3",
   "version": "3.9.7"
  }
 },
 "nbformat": 4,
 "nbformat_minor": 5
}
