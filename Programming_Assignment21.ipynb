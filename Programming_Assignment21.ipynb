{
 "cells": [
  {
   "cell_type": "markdown",
   "id": "56681d84",
   "metadata": {},
   "source": [
    "# Question1\n",
    "Write a function that takes a list and a number as arguments. Add the number to the end of\n",
    "the list, then remove the first element of the list. The function should then return the updated\n",
    "list.\n",
    "Examples\n",
    "next_in_line([5, 6, 7, 8, 9], 1) ➞ [6, 7, 8, 9, 1]\n",
    "next_in_line([7, 6, 3, 23, 17], 10) ➞ [6, 3, 23, 17, 10]\n",
    "next_in_line([1, 10, 20, 42 ], 6) ➞ [10, 20, 42, 6]\n",
    "next_in_line([], 6) ➞ &quot;No list has been selected&quot;"
   ]
  },
  {
   "cell_type": "code",
   "execution_count": 1,
   "id": "ecb4cf2d",
   "metadata": {},
   "outputs": [],
   "source": [
    "lst = [5, 6, 7, 8, 9]\n",
    "def next_in_line(lst,num):\n",
    "    if len(lst) > 0 :\n",
    "        lst.append(num)\n",
    "        return lst[1:]\n",
    "    else:\n",
    "        print(\"'No list has been selected'\")"
   ]
  },
  {
   "cell_type": "code",
   "execution_count": 2,
   "id": "dfb19e30",
   "metadata": {},
   "outputs": [
    {
     "data": {
      "text/plain": [
       "[6, 7, 8, 9, 1]"
      ]
     },
     "execution_count": 2,
     "metadata": {},
     "output_type": "execute_result"
    }
   ],
   "source": [
    "next_in_line(lst,1)"
   ]
  },
  {
   "cell_type": "code",
   "execution_count": 5,
   "id": "4eec4ff6",
   "metadata": {},
   "outputs": [
    {
     "data": {
      "text/plain": [
       "[6, 3, 23, 17, 10]"
      ]
     },
     "execution_count": 5,
     "metadata": {},
     "output_type": "execute_result"
    }
   ],
   "source": [
    "next_in_line([7, 6, 3, 23, 17],10)"
   ]
  },
  {
   "cell_type": "code",
   "execution_count": 4,
   "id": "097d1e80",
   "metadata": {},
   "outputs": [
    {
     "name": "stdout",
     "output_type": "stream",
     "text": [
      "'No list has been selected'\n"
     ]
    }
   ],
   "source": [
    "next_in_line([], 6)"
   ]
  },
  {
   "cell_type": "markdown",
   "id": "f6a3b888",
   "metadata": {},
   "source": [
    "# Question2\n",
    "Create the function that takes a list of dictionaries and returns the sum of people&#39;s budgets.\n",
    "Examples\n",
    "get_budgets([\n",
    "{ &quot;name&quot;: &quot;John&quot;, &quot;age&quot;: 21, &quot;budget&quot;: 23000 },\n",
    "{ &quot;name&quot;: &quot;Steve&quot;, &quot;age&quot;: 32, &quot;budget&quot;: 40000 },\n",
    "{ &quot;name&quot;: &quot;Martin&quot;, &quot;age&quot;: 16, &quot;budget&quot;: 2700 }\n",
    "]) ➞ 65700\n",
    "get_budgets([\n",
    "{ &quot;name&quot;: &quot;John&quot;, &quot;age&quot;: 21, &quot;budget&quot;: 29000 },\n",
    "{ &quot;name&quot;: &quot;Steve&quot;, &quot;age&quot;: 32, &quot;budget&quot;: 32000 },\n",
    "{ &quot;name&quot;: &quot;Martin&quot;, &quot;age&quot;: 16, &quot;budget&quot;: 1600 }\n",
    "]) ➞ 62600"
   ]
  },
  {
   "cell_type": "code",
   "execution_count": 6,
   "id": "042e96d3",
   "metadata": {},
   "outputs": [],
   "source": [
    "def get_budgets(listDict):\n",
    "    sum = 0\n",
    "    for dc in listDict:\n",
    "        for k,v in dc.items():\n",
    "            if k == 'budget':\n",
    "                sum = sum + v\n",
    "    return sum"
   ]
  },
  {
   "cell_type": "code",
   "execution_count": 7,
   "id": "1cbac2e5",
   "metadata": {},
   "outputs": [
    {
     "data": {
      "text/plain": [
       "65700"
      ]
     },
     "execution_count": 7,
     "metadata": {},
     "output_type": "execute_result"
    }
   ],
   "source": [
    "get_budgets([\n",
    "{ 'name': 'John', 'age': 21, 'budget': 23000 },\n",
    "{ 'name': 'Steve', 'age': 32, 'budget': 40000 },\n",
    "{ 'name': 'Martin', 'age': 16, 'budget': 2700 }\n",
    "])"
   ]
  },
  {
   "cell_type": "code",
   "execution_count": 8,
   "id": "0f41d050",
   "metadata": {},
   "outputs": [
    {
     "data": {
      "text/plain": [
       "62600"
      ]
     },
     "execution_count": 8,
     "metadata": {},
     "output_type": "execute_result"
    }
   ],
   "source": [
    "get_budgets([\n",
    "{ 'name': 'John', 'age': 21, 'budget': 29000 },\n",
    "{ 'name': 'Steve', 'age': 32, 'budget': 32000 },\n",
    "{ 'name': 'Martin', 'age': 16, 'budget': 1600 }\n",
    "])"
   ]
  },
  {
   "cell_type": "markdown",
   "id": "d578d0c8",
   "metadata": {},
   "source": [
    "# Question3\n",
    "Create a function that takes a string and returns a string with its letters in alphabetical order.\n",
    "Examples\n",
    "alphabet_soup(&quot;hello&quot;) ➞ &quot;ehllo&quot;\n",
    "alphabet_soup(&quot;edabit&quot;) ➞ &quot;abdeit&quot;\n",
    "alphabet_soup(&quot;hacker&quot;) ➞ &quot;acehkr&quot;\n",
    "alphabet_soup(&quot;geek&quot;) ➞ &quot;eegk&quot;\n",
    "alphabet_soup(&quot;javascript&quot;) ➞ &quot;aacijprstv&quot;"
   ]
  },
  {
   "cell_type": "code",
   "execution_count": 9,
   "id": "3f8296dd",
   "metadata": {},
   "outputs": [],
   "source": [
    "def alphabet_soup(str):\n",
    "    return ''.join(sorted(str))"
   ]
  },
  {
   "cell_type": "code",
   "execution_count": 10,
   "id": "05e1e42f",
   "metadata": {},
   "outputs": [
    {
     "data": {
      "text/plain": [
       "'abdeit'"
      ]
     },
     "execution_count": 10,
     "metadata": {},
     "output_type": "execute_result"
    }
   ],
   "source": [
    "alphabet_soup(\"edabit\")"
   ]
  },
  {
   "cell_type": "code",
   "execution_count": 11,
   "id": "1dfccc6f",
   "metadata": {},
   "outputs": [
    {
     "data": {
      "text/plain": [
       "'acehkr'"
      ]
     },
     "execution_count": 11,
     "metadata": {},
     "output_type": "execute_result"
    }
   ],
   "source": [
    "alphabet_soup(\"hacker\")"
   ]
  },
  {
   "cell_type": "code",
   "execution_count": 12,
   "id": "ff3a56ed",
   "metadata": {},
   "outputs": [
    {
     "data": {
      "text/plain": [
       "'eegk'"
      ]
     },
     "execution_count": 12,
     "metadata": {},
     "output_type": "execute_result"
    }
   ],
   "source": [
    "alphabet_soup(\"geek\")"
   ]
  },
  {
   "cell_type": "code",
   "execution_count": 13,
   "id": "2fbbade0",
   "metadata": {},
   "outputs": [
    {
     "data": {
      "text/plain": [
       "'aacijprstv'"
      ]
     },
     "execution_count": 13,
     "metadata": {},
     "output_type": "execute_result"
    }
   ],
   "source": [
    "alphabet_soup(\"javascript\") "
   ]
  },
  {
   "cell_type": "markdown",
   "id": "88bf2736",
   "metadata": {},
   "source": [
    "# Question4\n",
    "Suppose that you invest $10,000 for 10 years at an interest rate of 6% compounded monthly.\n",
    "What will be the value of your investment at the end of the 10 year period?\n",
    "Create a function that accepts the principal p, the term in years t, the interest rate r, and the\n",
    "number of compounding periods per year n. The function returns the value at the end of term\n",
    "rounded to the nearest cent.\n",
    "For the example above:\n",
    "compound_interest(10000, 10, 0.06, 12) ➞ 18193.97\n",
    "Note that the interest rate is given as a decimal and n=12 because with monthly compounding\n",
    "there are 12 periods per year. Compounding can also be done annually, quarterly, weekly, or\n",
    "daily.\n",
    "Examples\n",
    "compound_interest(100, 1, 0.05, 1) ➞ 105.0\n",
    "compound_interest(3500, 15, 0.1, 4) ➞ 15399.26\n",
    "compound_interest(100000, 20, 0.15, 365) ➞ 2007316.26"
   ]
  },
  {
   "cell_type": "code",
   "execution_count": 14,
   "id": "f2e8b182",
   "metadata": {},
   "outputs": [],
   "source": [
    "def compound_interest(amt, years, intrest, compPeriod):\n",
    "    future_value = amt *(1 + (intrest/compPeriod)) ** (years * compPeriod)\n",
    "    return round(future_value,2)\n",
    "     "
   ]
  },
  {
   "cell_type": "code",
   "execution_count": 15,
   "id": "c8f358eb",
   "metadata": {},
   "outputs": [
    {
     "data": {
      "text/plain": [
       "18193.97"
      ]
     },
     "execution_count": 15,
     "metadata": {},
     "output_type": "execute_result"
    }
   ],
   "source": [
    "compound_interest(10000,10,0.06,12)"
   ]
  },
  {
   "cell_type": "code",
   "execution_count": 16,
   "id": "cf306f61",
   "metadata": {},
   "outputs": [
    {
     "data": {
      "text/plain": [
       "105.0"
      ]
     },
     "execution_count": 16,
     "metadata": {},
     "output_type": "execute_result"
    }
   ],
   "source": [
    "compound_interest(100,1,0.05,1)"
   ]
  },
  {
   "cell_type": "code",
   "execution_count": 17,
   "id": "ec5a2907",
   "metadata": {},
   "outputs": [
    {
     "data": {
      "text/plain": [
       "15399.26"
      ]
     },
     "execution_count": 17,
     "metadata": {},
     "output_type": "execute_result"
    }
   ],
   "source": [
    "compound_interest(3500, 15, 0.1, 4)"
   ]
  },
  {
   "cell_type": "code",
   "execution_count": 18,
   "id": "95ff5dec",
   "metadata": {},
   "outputs": [
    {
     "data": {
      "text/plain": [
       "2007316.26"
      ]
     },
     "execution_count": 18,
     "metadata": {},
     "output_type": "execute_result"
    }
   ],
   "source": [
    "compound_interest(100000, 20, 0.15, 365)"
   ]
  },
  {
   "cell_type": "markdown",
   "id": "7985f079",
   "metadata": {},
   "source": [
    "# Question5\n",
    "Write a function that takes a list of elements and returns only the integers.\n",
    "Examples\n",
    "return_only_integer([9, 2, &quot;space&quot;, &quot;car&quot;, &quot;lion&quot;, 16]) ➞ [9, 2, 16]\n",
    "return_only_integer([&quot;hello&quot;, 81, &quot;basketball&quot;, 123, &quot;fox&quot;]) ➞ [81, 123]\n",
    "return_only_integer([10, &quot;121&quot;, 56, 20, &quot;car&quot;, 3, &quot;lion&quot;]) ➞ [10, 56, 20,\n",
    "3]\n",
    "return_only_integer([&quot;String&quot;, True, 3.3, 1]) ➞ [1]"
   ]
  },
  {
   "cell_type": "code",
   "execution_count": 19,
   "id": "f1a19b61",
   "metadata": {},
   "outputs": [],
   "source": [
    "def return_only_integer(lst):\n",
    "    int_list = []\n",
    "    for i in lst:\n",
    "        if type(i) == int:\n",
    "            int_list.append(i)\n",
    "    return int_list\n",
    "     "
   ]
  },
  {
   "cell_type": "code",
   "execution_count": 20,
   "id": "74402d37",
   "metadata": {},
   "outputs": [
    {
     "data": {
      "text/plain": [
       "[9, 2, 16]"
      ]
     },
     "execution_count": 20,
     "metadata": {},
     "output_type": "execute_result"
    }
   ],
   "source": [
    "return_only_integer([9, 2, 'space', 'car', 'lion', 16])\n"
   ]
  },
  {
   "cell_type": "code",
   "execution_count": 21,
   "id": "e0995e5c",
   "metadata": {},
   "outputs": [
    {
     "data": {
      "text/plain": [
       "[81, 123]"
      ]
     },
     "execution_count": 21,
     "metadata": {},
     "output_type": "execute_result"
    }
   ],
   "source": [
    "return_only_integer(['hello', 81, 'basketball', 123, 'fox'])\n"
   ]
  },
  {
   "cell_type": "code",
   "execution_count": 22,
   "id": "d241f35e",
   "metadata": {},
   "outputs": [
    {
     "data": {
      "text/plain": [
       "[10, 56, 20, 3]"
      ]
     },
     "execution_count": 22,
     "metadata": {},
     "output_type": "execute_result"
    }
   ],
   "source": [
    "return_only_integer([10, '121', 56, 20, 'car', 3, 'lion'])"
   ]
  },
  {
   "cell_type": "code",
   "execution_count": 23,
   "id": "d842ffc6",
   "metadata": {},
   "outputs": [
    {
     "data": {
      "text/plain": [
       "[1]"
      ]
     },
     "execution_count": 23,
     "metadata": {},
     "output_type": "execute_result"
    }
   ],
   "source": [
    "return_only_integer(['String', True, 3.3, 1])"
   ]
  },
  {
   "cell_type": "code",
   "execution_count": null,
   "id": "d115e539",
   "metadata": {},
   "outputs": [],
   "source": []
  }
 ],
 "metadata": {
  "kernelspec": {
   "display_name": "Python 3 (ipykernel)",
   "language": "python",
   "name": "python3"
  },
  "language_info": {
   "codemirror_mode": {
    "name": "ipython",
    "version": 3
   },
   "file_extension": ".py",
   "mimetype": "text/x-python",
   "name": "python",
   "nbconvert_exporter": "python",
   "pygments_lexer": "ipython3",
   "version": "3.9.7"
  }
 },
 "nbformat": 4,
 "nbformat_minor": 5
}
