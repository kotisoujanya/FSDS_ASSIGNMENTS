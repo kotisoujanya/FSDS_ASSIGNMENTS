{
 "cells": [
  {
   "cell_type": "markdown",
   "id": "62394e7a",
   "metadata": {},
   "source": [
    "# 1.\tWrite a Python Program to Find the Factorial of a Number?"
   ]
  },
  {
   "cell_type": "code",
   "execution_count": 2,
   "id": "39ce1d90",
   "metadata": {},
   "outputs": [
    {
     "name": "stdout",
     "output_type": "stream",
     "text": [
      "enter any number: 5\n",
      "factorial of the 5 is :  120\n"
     ]
    }
   ],
   "source": [
    "n=int(input(\"enter any number: \"))\n",
    "factorial=1\n",
    "if n<0:\n",
    "    print(\"can't calculate negative numbers\")\n",
    "elif n==0 or n==1:\n",
    "    print(\"factorial of zero or one is 1\")\n",
    "else:    \n",
    "    for i in range(1,n+1):\n",
    "        factorial=factorial*i\n",
    "print(f\"factorial of the {n} is : \",factorial)\n",
    "    "
   ]
  },
  {
   "cell_type": "markdown",
   "id": "e92d6a18",
   "metadata": {},
   "source": [
    "# 2.\tWrite a Python Program to Display the multiplication Table?"
   ]
  },
  {
   "cell_type": "code",
   "execution_count": 12,
   "id": "fd456b10",
   "metadata": {},
   "outputs": [
    {
     "name": "stdout",
     "output_type": "stream",
     "text": [
      "enter any number: 9\n",
      "9 X 1 = 9\n",
      "9 X 2 = 18\n",
      "9 X 3 = 27\n",
      "9 X 4 = 36\n",
      "9 X 5 = 45\n",
      "9 X 6 = 54\n",
      "9 X 7 = 63\n",
      "9 X 8 = 72\n",
      "9 X 9 = 81\n",
      "9 X 10 = 90\n"
     ]
    }
   ],
   "source": [
    "n=int(input(\"enter any number: \"))\n",
    "for i in range(1,11):\n",
    "    print(f\"{n} X {i} =\",n*i)"
   ]
  },
  {
   "cell_type": "markdown",
   "id": "1db0a896",
   "metadata": {},
   "source": [
    "# 3.\tWrite a Python Program to Print the Fibonacci sequence?"
   ]
  },
  {
   "cell_type": "code",
   "execution_count": 31,
   "id": "848ab9ee",
   "metadata": {},
   "outputs": [
    {
     "name": "stdout",
     "output_type": "stream",
     "text": [
      "enter  number: 10\n",
      "0 1 1 2 3 5 8 13 21 34 \n",
      "enter required fibonenci sequence number: 10\n",
      "[0, 1, 1, 2, 3, 5, 8, 13, 21, 34]\n"
     ]
    }
   ],
   "source": [
    "# Fibonacci series - > 1, 1, 2, 3, 5,8,13........\n",
    "\n",
    "n=int(input(\"enter  number: \"))\n",
    "a,b=0,1\n",
    "sum=0\n",
    "if n <= 0:\n",
    "    print(\"please enter number greater than zero\")\n",
    "else:\n",
    "    for i in range(n):\n",
    "        print(sum,end=\" \")\n",
    "        a=b\n",
    "        b=sum\n",
    "        sum=a+b\n",
    "print()        \n",
    "#==========================================================================\n",
    "#using function\n",
    "\n",
    "def fibonencci_sequence(number):\n",
    "    if number<=0:\n",
    "        print(\"enter the number greater than zero\")\n",
    "    else:\n",
    "        a,b=0,1\n",
    "        l=[]\n",
    "        for i in range(number):\n",
    "            l.append(a)\n",
    "            a,b=b,a+b\n",
    "    return l\n",
    "n=int(input(\"enter required fibonenci sequence number: \"))\n",
    "print(fibonencci_sequence(n))"
   ]
  },
  {
   "cell_type": "markdown",
   "id": "8a738ecb",
   "metadata": {},
   "source": [
    "# 4.\tWrite a Python Program to Check Armstrong Number?"
   ]
  },
  {
   "cell_type": "code",
   "execution_count": 37,
   "id": "86484cc8",
   "metadata": {},
   "outputs": [
    {
     "name": "stdout",
     "output_type": "stream",
     "text": [
      "enter any number:526\n",
      "given number is not a amstrong number\n",
      "\n",
      "Enter the number : 153\n",
      "Number is armstrong number\n"
     ]
    }
   ],
   "source": [
    "#153 is an Armstrong number---->1*1*1 + 5*5*5 + 3*3*3 = 153\n",
    "\n",
    "n=int(input(\"enter any number:\"))\n",
    "x=n\n",
    "y=n\n",
    "count=0\n",
    "sum=0\n",
    "while n>0:\n",
    "    r=n%10\n",
    "    count=count+1\n",
    "    n=n//10\n",
    "while x>0:\n",
    "    r=x%10\n",
    "    sum=sum+(r**count)\n",
    "    x=x//10\n",
    "if sum==y:\n",
    "    print(\"given number is amstrong number\")\n",
    "else:\n",
    "    print(\"given number is not a amstrong number\")\n",
    "\n",
    "    \n",
    "print()    \n",
    "#===========================================================\n",
    "\n",
    "#another way\n",
    "x = int(input(\"Enter the number : \"))\n",
    "power = len(str(x))\n",
    "y = x\n",
    "sum = 0\n",
    "while y > 0:\n",
    "    digit = y % 10\n",
    "    sum = sum + digit ** power\n",
    "    y = y//10\n",
    "if x == sum :\n",
    "    print(\"Number is armstrong number\")\n",
    "else:\n",
    "    print(\"Not an armstrong number\")"
   ]
  },
  {
   "cell_type": "markdown",
   "id": "c54fa67f",
   "metadata": {},
   "source": [
    "# 5.\tWrite a Python Program to Find Armstrong Number in an Interval?"
   ]
  },
  {
   "cell_type": "code",
   "execution_count": 51,
   "id": "8936f80e",
   "metadata": {},
   "outputs": [
    {
     "name": "stdout",
     "output_type": "stream",
     "text": [
      "enter a starting intervel: 1\n",
      "enter a ending intervel: 50000\n",
      "1,2,3,4,5,6,7,8,9,153,370,371,407,1634,8208,9474,"
     ]
    }
   ],
   "source": [
    "x1=int(input(\"enter a starting intervel: \"))\n",
    "x2=int(input(\"enter a ending intervel: \"))\n",
    "for i in range(x1,x2+1):\n",
    "    temp=i\n",
    "    power=len(str(i))\n",
    "    sum=0\n",
    "    while temp>0:\n",
    "        y=temp%10\n",
    "        sum=sum+(y**power)\n",
    "        temp=temp//10\n",
    "    if i == sum:\n",
    "        print(i,end=\",\")"
   ]
  },
  {
   "cell_type": "markdown",
   "id": "50db294c",
   "metadata": {},
   "source": [
    "# 6.\tWrite a Python Program to Find the Sum of Natural Numbers?"
   ]
  },
  {
   "cell_type": "code",
   "execution_count": 32,
   "id": "fa6c6524",
   "metadata": {},
   "outputs": [
    {
     "name": "stdout",
     "output_type": "stream",
     "text": [
      "enter any natural number(positive values only): 50\n",
      "sum of the 50 natural numbers is  1275.0\n",
      "\n",
      "enter number: 50\n",
      "sum of the 50 natural numbers is  1275.0\n"
     ]
    }
   ],
   "source": [
    "n=int(input(\"enter any natural number(positive values only): \"))\n",
    "sum=(n*(n+1))/2\n",
    "print(f\"sum of the {n} natural numbers is \",sum)\n",
    "\n",
    "print()\n",
    "#================================================================\n",
    "\n",
    "\n",
    "#another way using functions\n",
    "def sum_of_natural_numbers(number):\n",
    "    return (n*(n+1))/2\n",
    "n=int(input(\"enter number: \"))\n",
    "print(f\"sum of the {n} natural numbers is \",sum_of_natural_numbers(n))"
   ]
  },
  {
   "cell_type": "code",
   "execution_count": null,
   "id": "7266ebc3",
   "metadata": {},
   "outputs": [],
   "source": []
  }
 ],
 "metadata": {
  "kernelspec": {
   "display_name": "Python 3 (ipykernel)",
   "language": "python",
   "name": "python3"
  },
  "language_info": {
   "codemirror_mode": {
    "name": "ipython",
    "version": 3
   },
   "file_extension": ".py",
   "mimetype": "text/x-python",
   "name": "python",
   "nbconvert_exporter": "python",
   "pygments_lexer": "ipython3",
   "version": "3.9.7"
  }
 },
 "nbformat": 4,
 "nbformat_minor": 5
}
