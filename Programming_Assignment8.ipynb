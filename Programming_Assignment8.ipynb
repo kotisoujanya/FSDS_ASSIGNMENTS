{
 "cells": [
  {
   "cell_type": "markdown",
   "id": "ab21e961",
   "metadata": {},
   "source": [
    "# 1. Write a Python Program to Add Two Matrices?"
   ]
  },
  {
   "cell_type": "code",
   "execution_count": 3,
   "id": "c07129c1",
   "metadata": {},
   "outputs": [
    {
     "name": "stdout",
     "output_type": "stream",
     "text": [
      "The Sum of two matrix [[ 1  4  6]\n",
      " [ 7  5 88]\n",
      " [ 8  5 77]] \n",
      " [[12 43 74]\n",
      " [ 5  8  3]\n",
      " [ 8  9  9]] is \n",
      " :[[13 47 80]\n",
      " [12 13 91]\n",
      " [16 14 86]]\n"
     ]
    }
   ],
   "source": [
    "import numpy as np\n",
    "\n",
    "mat1 = np.array([[1,4,6],\n",
    "        [7,5,88],\n",
    "        [8,5,77]])\n",
    "mat2 = np.array([[12,43,74],\n",
    "        [5,8,3],\n",
    "        [8,9,9]])\n",
    "\n",
    "Matsum = np.add(mat1,mat2)\n",
    "print(f\"The Sum of two matrix {mat1} \\n {mat2} is \\n :{Matsum}\")"
   ]
  },
  {
   "cell_type": "markdown",
   "id": "f145cdb6",
   "metadata": {},
   "source": [
    "# 2. Write a Python Program to Multiply Two Matrices?"
   ]
  },
  {
   "cell_type": "code",
   "execution_count": 4,
   "id": "661515d5",
   "metadata": {},
   "outputs": [
    {
     "name": "stdout",
     "output_type": "stream",
     "text": [
      "The product of two matrix \n",
      "\n",
      "[[13 42 64]\n",
      " [ 3  7  4]\n",
      " [ 9  1  2]]  and \n",
      "\n",
      "[[ 2  4  7]\n",
      " [55 67  8]\n",
      " [ 8  9  1]]  is \n",
      "\n",
      "[[2848 3442  491]\n",
      " [ 423  517   81]\n",
      " [  89  121   73]] \n"
     ]
    }
   ],
   "source": [
    "import numpy as np\n",
    "\n",
    "mat1 = np.array([[13,42,64],\n",
    "        [3,7,4],\n",
    "        [9,1,2]])\n",
    "mat2 = np.array([[2,4,7],\n",
    "        [55,67,8],\n",
    "        [8,9,1]])\n",
    "\n",
    "mulMat = np.dot(mat1,mat2)\n",
    "print(\"The product of two matrix \\n\\n{}  and \\n\\n{}  is \\n\\n{} \".format(mat1,mat2,mulMat))\n",
    "     "
   ]
  },
  {
   "cell_type": "markdown",
   "id": "23eaa6f0",
   "metadata": {},
   "source": [
    "# 3. Write a Python Program to Transpose a Matrix?"
   ]
  },
  {
   "cell_type": "code",
   "execution_count": 5,
   "id": "ab2a5402",
   "metadata": {},
   "outputs": [
    {
     "name": "stdout",
     "output_type": "stream",
     "text": [
      "Enter N for N x N matrix: 3\n",
      "Enter the element :\n",
      "4\n",
      "5\n",
      "6\n",
      "8\n",
      "63\n",
      "24\n",
      "65\n",
      "12\n",
      "32\n",
      "Display Array M1 In Matrix Form\n",
      "4 5 6 \n",
      "8 63 24 \n",
      "65 12 32 \n",
      "Transposed Matrix\n",
      "[4, 8, 65]\n",
      "[5, 63, 12]\n",
      "[6, 24, 32]\n"
     ]
    }
   ],
   "source": [
    "\n",
    "def Matrix(n,v=0):\n",
    "    M=[]             \n",
    "    for i in range(n):\n",
    "        \n",
    "        row =[]\n",
    "        for j in range(n):\n",
    "            row.append(v)\n",
    "        M.append(row)\n",
    "    return(M)\n",
    "\n",
    "def crMatrix(n):\n",
    "    \n",
    "    M=[]             \n",
    "    print(\"Enter the element :\")\n",
    "    for i in range(n):\n",
    "        #stor row\n",
    "        row =[]\n",
    "        for j in range(n):\n",
    "            row.append(int(input()))\n",
    "        M.append(row)\n",
    "    return(M)\n",
    "\n",
    "def prMatrix(M,n):\n",
    "    for i in range(n):\n",
    "        for j in range(n):\n",
    "            print(M[i][j], end=\" \")\n",
    "        print() \n",
    "\n",
    "def tpMatrix(M,n,result):\n",
    "    for i in range(n):\n",
    "        for j in range(n):\n",
    "            result[i][j]= M[j][i]\n",
    "    return result\n",
    "\n",
    "n=int(input(\"Enter N for N x N matrix: \"))       \n",
    "M1 = crMatrix(n)\n",
    "\n",
    "print(\"Display Array M1 In Matrix Form\")\n",
    "prMatrix(M1,n)\n",
    "\n",
    "result = Matrix(n)\n",
    "result = tpMatrix(M1,n,result)\n",
    "print(\"Transposed Matrix\")\n",
    "for r in result:\n",
    "    print(r)  "
   ]
  },
  {
   "cell_type": "markdown",
   "id": "4fffeab6",
   "metadata": {},
   "source": [
    "# 4. Write a Python Program to Sort Words in Alphabetic Order?"
   ]
  },
  {
   "cell_type": "code",
   "execution_count": 13,
   "id": "da81dfc3",
   "metadata": {},
   "outputs": [
    {
     "name": "stdout",
     "output_type": "stream",
     "text": [
      "Enter string :souanya want to to become a data scientist\n",
      "a\n",
      "become\n",
      "data\n",
      "scientist\n",
      "souanya\n",
      "to\n",
      "to\n",
      "want\n"
     ]
    }
   ],
   "source": [
    "\n",
    "Arr = input(\"Enter string :\")\n",
    "\n",
    "words = Arr.split()\n",
    "words.sort()\n",
    "for word in words:\n",
    "    print(word)"
   ]
  },
  {
   "cell_type": "markdown",
   "id": "b34ad266",
   "metadata": {},
   "source": [
    "# 5. Write a Python Program to Remove Punctuation From a String?"
   ]
  },
  {
   "cell_type": "code",
   "execution_count": 12,
   "id": "3b538332",
   "metadata": {},
   "outputs": [
    {
     "name": "stdout",
     "output_type": "stream",
     "text": [
      "Enter a string with punctuations: souja%$#@*a{n)(*ya\n",
      "soujaanya\n"
     ]
    }
   ],
   "source": [
    "\n",
    "punctuations = '''!()-[]{};:'\"\\,<>./?@#$%^&*_~'''\n",
    "\n",
    "Arr = input(\"Enter a string with punctuations: \")\n",
    "\n",
    "\n",
    "rem_punc = \"\"\n",
    "for i in Arr:\n",
    "    if i not in punctuations:\n",
    "        rem_punc = rem_punc + i\n",
    "\n",
    "# display \n",
    "print(rem_punc)"
   ]
  },
  {
   "cell_type": "code",
   "execution_count": null,
   "id": "c4042bad",
   "metadata": {},
   "outputs": [],
   "source": []
  }
 ],
 "metadata": {
  "kernelspec": {
   "display_name": "Python 3 (ipykernel)",
   "language": "python",
   "name": "python3"
  },
  "language_info": {
   "codemirror_mode": {
    "name": "ipython",
    "version": 3
   },
   "file_extension": ".py",
   "mimetype": "text/x-python",
   "name": "python",
   "nbconvert_exporter": "python",
   "pygments_lexer": "ipython3",
   "version": "3.9.7"
  }
 },
 "nbformat": 4,
 "nbformat_minor": 5
}
