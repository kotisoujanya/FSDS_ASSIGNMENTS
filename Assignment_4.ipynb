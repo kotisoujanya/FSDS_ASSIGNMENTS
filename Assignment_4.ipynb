{
 "cells": [
  {
   "cell_type": "markdown",
   "id": "c138a706",
   "metadata": {},
   "source": [
    "# 1. What exactly is [ ]?\n",
    "\n",
    "\n",
    "      [ ] is a empty list, like S = []"
   ]
  },
  {
   "cell_type": "markdown",
   "id": "fa7bd090",
   "metadata": {},
   "source": [
    "# 2. In a list of values stored in a variable called spam, how would you assign the value hello' as the third value? (Assume [2, 4, 6, 8, 10] are in spam.)\n"
   ]
  },
  {
   "cell_type": "code",
   "execution_count": null,
   "id": "559f8a13",
   "metadata": {},
   "outputs": [],
   "source": [
    "#by using the index we can assign the hello value \n",
    "spam=[2,4,6,8,10]\n",
    "spam[2]=\"hello\"\n",
    "print(spam)"
   ]
  },
  {
   "cell_type": "markdown",
   "id": "60e0cfb5",
   "metadata": {},
   "source": [
    "#    Let's pretend the spam includes the list ['a', 'b', 'c', 'd'] for the next three queries."
   ]
  },
  {
   "cell_type": "markdown",
   "id": "cdaf0c4f",
   "metadata": {},
   "source": [
    "# 3. What is the value of spam[int(int('3' * 2) / 11)]?"
   ]
  },
  {
   "cell_type": "code",
   "execution_count": null,
   "id": "a61ba210",
   "metadata": {},
   "outputs": [],
   "source": [
    "spam=['a','b','c','d']\n",
    "spam[int(int('3'*2)/11)] #spam[int(int(33)/11)]---->spam[int(3)]---->spam[3]"
   ]
  },
  {
   "cell_type": "markdown",
   "id": "5d982b09",
   "metadata": {},
   "source": [
    "# 4. What is the value of spam[-1]?"
   ]
  },
  {
   "cell_type": "code",
   "execution_count": null,
   "id": "fe7bf515",
   "metadata": {},
   "outputs": [],
   "source": [
    "spam=['a','b','c','d']\n",
    "spam[-1]     # negative indexing starts from right to left starts with -1"
   ]
  },
  {
   "cell_type": "markdown",
   "id": "fb02dfcb",
   "metadata": {},
   "source": [
    "# 5. What is the value of spam[:2]?"
   ]
  },
  {
   "cell_type": "code",
   "execution_count": null,
   "id": "3bc99a7b",
   "metadata": {},
   "outputs": [],
   "source": [
    "spam=['a','b','c','d']    #slicing\n",
    "spam[:2]      #starting element to 1st index(last index is excluded)"
   ]
  },
  {
   "cell_type": "markdown",
   "id": "68ab7abc",
   "metadata": {},
   "source": [
    "# Let's pretend bacon has the list [3.14, 'cat,' 11, 'cat,' True] for the next three questions.\n",
    "\n"
   ]
  },
  {
   "cell_type": "markdown",
   "id": "44b25776",
   "metadata": {},
   "source": [
    "# 6. What is the value of bacon.index('cat')?"
   ]
  },
  {
   "cell_type": "code",
   "execution_count": null,
   "id": "11a43f2b",
   "metadata": {},
   "outputs": [],
   "source": [
    "bacon=[3.14, 'cat', 11, 'cat', True] \n",
    "bacon.index('cat')    ## it returns the index of first occurrence of 'cat'"
   ]
  },
  {
   "cell_type": "markdown",
   "id": "12feedec",
   "metadata": {},
   "source": [
    "# 7. How does bacon.append(99) change the look of the list value in bacon?"
   ]
  },
  {
   "cell_type": "code",
   "execution_count": null,
   "id": "43483c79",
   "metadata": {},
   "outputs": [],
   "source": [
    "bacon=[3.14, 'cat', 11, 'cat', True] \n",
    "bacon.append(99)       #  # append adds the item at the end of the list\n",
    "print(bacon)"
   ]
  },
  {
   "cell_type": "markdown",
   "id": "89dd6d5d",
   "metadata": {},
   "source": [
    "# 8. How does bacon.remove('cat') change the look of the list in bacon?"
   ]
  },
  {
   "cell_type": "code",
   "execution_count": null,
   "id": "b3246767",
   "metadata": {},
   "outputs": [],
   "source": [
    "bacon=[3.14, 'cat', 11, 'cat', True] \n",
    "bacon.remove('cat')       #  remove first occurrence of item\n",
    "print(bacon)"
   ]
  },
  {
   "cell_type": "markdown",
   "id": "b48e0df0",
   "metadata": {},
   "source": [
    "# 9. What are the list concatenation and list replication operators?"
   ]
  },
  {
   "cell_type": "markdown",
   "id": "0ec01639",
   "metadata": {},
   "source": [
    "      \n",
    "    The operator for list concatenation is +, while the operator for replication is *."
   ]
  },
  {
   "cell_type": "code",
   "execution_count": null,
   "id": "14268f13",
   "metadata": {},
   "outputs": [],
   "source": [
    "a=[1,2,3]\n",
    "b=['a','b',3+2j]\n",
    "a+b     #list concatenation using (+) operator"
   ]
  },
  {
   "cell_type": "code",
   "execution_count": null,
   "id": "daa61dba",
   "metadata": {},
   "outputs": [],
   "source": [
    "a=[1,2,3]\n",
    "# list replication operator is (*).\n",
    "a*3"
   ]
  },
  {
   "cell_type": "markdown",
   "id": "0e176678",
   "metadata": {},
   "source": [
    "# 10. What is difference between the list methods append() and insert()?"
   ]
  },
  {
   "cell_type": "markdown",
   "id": "f2706208",
   "metadata": {},
   "source": [
    "      \n",
    "      The only difference between append() and insert() is that insert function allows us to add a specific element\n",
    "      at a specified index of the list unlike append() where we can add the element only at end of the list."
   ]
  },
  {
   "cell_type": "code",
   "execution_count": null,
   "id": "f5778f55",
   "metadata": {},
   "outputs": [],
   "source": [
    "a=[1, 2, 3, 'a', 'b', (3+2j)]\n",
    "a.append(100)   # add the 100 at the end of the list.\n",
    "print(a)"
   ]
  },
  {
   "cell_type": "code",
   "execution_count": null,
   "id": "aa7b8d2f",
   "metadata": {},
   "outputs": [],
   "source": [
    "a=[1, 2, 3, 'a', 'b', (3+2j)]\n",
    "a.insert(3,500)   # at the 3rd index 500 will be added.\n",
    "print(a)"
   ]
  },
  {
   "cell_type": "markdown",
   "id": "8f9047cf",
   "metadata": {},
   "source": [
    "# 11. What are the two methods for removing items from a list?"
   ]
  },
  {
   "cell_type": "code",
   "execution_count": null,
   "id": "721f4743",
   "metadata": {},
   "outputs": [],
   "source": [
    "#remove(item) - removeds first occurence of a item\n",
    "bacon = [1, 2, 3, 'a', 'b', (3+2j), 100,'a']\n",
    "bacon.remove('a')\n",
    "bacon"
   ]
  },
  {
   "cell_type": "code",
   "execution_count": null,
   "id": "437246d5",
   "metadata": {},
   "outputs": [],
   "source": [
    "#pop() - Remove and returns item at index (default last).\n",
    "bacon = [1, 2, 3, 'a', 'b', (3+2j), 100,'a']\n",
    "bacon.pop(5)  #returns 5th index item(removed form the list).\n",
    "bacon\n",
    "bacon.pop()  # default last item removed\n",
    "print(bacon)"
   ]
  },
  {
   "cell_type": "markdown",
   "id": "47465130",
   "metadata": {},
   "source": [
    "# 12. Describe how list values and string values are identical."
   ]
  },
  {
   "cell_type": "markdown",
   "id": "1da7fb2c",
   "metadata": {},
   "source": [
    "     1.Both lists and strings can be passed to len()\n",
    "     2.Have indexes and slices\n",
    "     3.Can be used in for loops\n",
    "     4.Can be concatenated or replicated\n",
    "     5.Can be used with the in and not in operators"
   ]
  },
  {
   "cell_type": "markdown",
   "id": "04271f9d",
   "metadata": {},
   "source": [
    "# 13. What's the difference between tuples and lists?"
   ]
  },
  {
   "cell_type": "markdown",
   "id": "e035c316",
   "metadata": {},
   "source": [
    "     list: lists are mutable.it can be changable(adding,remove),it can be created by []\n",
    "     tuple: tuples are immutable we can not change at all once we assign the values to the tuple.\n",
    "     Tuples are written using parentheses, ( )"
   ]
  },
  {
   "cell_type": "markdown",
   "id": "44f43eb1",
   "metadata": {},
   "source": [
    "# 14. How do you type a tuple value that only contains the integer 42?"
   ]
  },
  {
   "cell_type": "code",
   "execution_count": 1,
   "id": "0a911c3b",
   "metadata": {},
   "outputs": [
    {
     "name": "stdout",
     "output_type": "stream",
     "text": [
      "<class 'tuple'>\n",
      "<class 'tuple'>\n"
     ]
    }
   ],
   "source": [
    "tuple=(42,)\n",
    "print(type(tuple))\n",
    "t=42,\n",
    "print(type(t))"
   ]
  },
  {
   "cell_type": "markdown",
   "id": "005bc1e7",
   "metadata": {},
   "source": [
    "# 15. How do you get a list value's tuple form? How do you get a tuple value's list form?"
   ]
  },
  {
   "cell_type": "code",
   "execution_count": null,
   "id": "29461b83",
   "metadata": {},
   "outputs": [],
   "source": [
    "t1=(42,63,85,32)\n",
    "print(type(t1))\n",
    "l=list(t1)   # litst values from tuple form\n",
    "print(type(l))\n",
    "print(l)"
   ]
  },
  {
   "cell_type": "code",
   "execution_count": null,
   "id": "3dc41390",
   "metadata": {},
   "outputs": [],
   "source": [
    "l2=[42, 63, 85, 32]\n",
    "print(type(l2))\n",
    "t2=tuple(l2)\n",
    "print(type(t2))\n",
    "print(t2)"
   ]
  },
  {
   "cell_type": "markdown",
   "id": "ae320f80",
   "metadata": {},
   "source": [
    "# 16. Variables that \"contain\" list values are not necessarily lists themselves. Instead, what do they contain?\n",
    "     \n",
    "     They contain references to list values."
   ]
  },
  {
   "cell_type": "markdown",
   "id": "56c6b219",
   "metadata": {},
   "source": [
    "# 17. How do you distinguish between copy.copy() and copy.deepcopy()?\n",
    "       \n",
    "       The copy.copy() function will do a shallow copy of a list,\n",
    "       The copy.deepcopy() function will do a deep copy of a list. only copy.deepcopy() will duplicate any lists\n",
    "       inside the list"
   ]
  },
  {
   "cell_type": "code",
   "execution_count": 2,
   "id": "88fb7c5f",
   "metadata": {},
   "outputs": [
    {
     "name": "stdout",
     "output_type": "stream",
     "text": [
      "list 1 elements:  [1, 2, [3, 'Hi'], 4]\n",
      "list1 ID:  2882740676480\n",
      "list2 ID:  2882740678080 Value:  [1, 2, [3, 'Hi'], 4]\n",
      "[1, 2, [3, 'Hi'], 4]\n",
      "list3 ID:  2882740678784 Value:  [1, 2, [3, 'Hi'], 4]\n"
     ]
    }
   ],
   "source": [
    "# importing copy module\n",
    "import copy\n",
    " \n",
    "# initializing list 1\n",
    "list1 = [1, 2, [3, 5], 4]\n",
    "list1[2][1]='Hi'\n",
    "print(\"list 1 elements: \",list1)\n",
    "print(\"list1 ID: \",id(list1))\n",
    " \n",
    "# using copy for shallow copy\n",
    "list2 = copy.copy(list1)\n",
    "#list2[1]='hello'\n",
    "print(\"list2 ID: \", id(list2), \"Value: \", list2)\n",
    "\n",
    "\n",
    "# using deepcopy for deepcopy\n",
    "list3 = copy.deepcopy(list1)\n",
    "#list3[1]='hai'\n",
    "print(list3)\n",
    "print(\"list3 ID: \", id(list3), \"Value: \", list3)"
   ]
  },
  {
   "cell_type": "code",
   "execution_count": null,
   "id": "a3c75bb6",
   "metadata": {},
   "outputs": [],
   "source": [
    "\n",
    "\n",
    "\n"
   ]
  }
 ],
 "metadata": {
  "kernelspec": {
   "display_name": "Python 3 (ipykernel)",
   "language": "python",
   "name": "python3"
  },
  "language_info": {
   "codemirror_mode": {
    "name": "ipython",
    "version": 3
   },
   "file_extension": ".py",
   "mimetype": "text/x-python",
   "name": "python",
   "nbconvert_exporter": "python",
   "pygments_lexer": "ipython3",
   "version": "3.9.7"
  }
 },
 "nbformat": 4,
 "nbformat_minor": 5
}
