{
 "cells": [
  {
   "cell_type": "markdown",
   "id": "c94adaa1",
   "metadata": {},
   "source": [
    "\n",
    "\n",
    "# 1. In the below elements which of them are values or an expression? eg:- values can be integer or string and expressions will be mathematical operators.\n",
    "\n",
    "\n"
   ]
  },
  {
   "cell_type": "raw",
   "id": "ca6e6dbf",
   "metadata": {},
   "source": [
    "*      --------> mutiplication operator(arthmetic)\n",
    "'hello'--------> string\n",
    "-87.8----------> float value\n",
    "-    ----------> subtration operator\n",
    "/    ----------> floar division operator(arthmetic)\n",
    "+\t ----------> addition operator(arthmetic)\n",
    "6    ----------> integer \n"
   ]
  },
  {
   "cell_type": "markdown",
   "id": "248f37ae",
   "metadata": {},
   "source": [
    "# 2. What is the difference between string and variable?"
   ]
  },
  {
   "cell_type": "markdown",
   "id": "3e797089",
   "metadata": {},
   "source": [
    "     Variables are symbols that you can use to store data in a program. You can think of them as an empty box that you\n",
    "     fill with some data or value.\n",
    "     \n",
    "     Strings are data,collection of characters denoted in single/double quotes or trible quotes ,so we can use them to \n",
    "     fill up a variable."
   ]
  },
  {
   "cell_type": "markdown",
   "id": "4bd1d9b2",
   "metadata": {},
   "source": [
    "# 3. Describe three different data types.\n",
    "     \n",
    "     Integers, floating-point numbers, and strings."
   ]
  },
  {
   "cell_type": "markdown",
   "id": "0bdd96c8",
   "metadata": {},
   "source": [
    "          "
   ]
  },
  {
   "cell_type": "markdown",
   "id": "6a20acf1",
   "metadata": {},
   "source": [
    "# 4. What is an expression made up of? What do all expressions do?\n",
    "\n",
    "      An expression is a combination of values and operators. All expressions evaluate (that is, reduce) to a single value."
   ]
  },
  {
   "cell_type": "markdown",
   "id": "f9757e14",
   "metadata": {},
   "source": [
    "# 5. This assignment statements, like spam = 10. What is the difference between an expression and a statement?\n",
    "\n",
    "       An expression evaluates to a single value. A statement does not."
   ]
  },
  {
   "cell_type": "markdown",
   "id": "1cd53546",
   "metadata": {},
   "source": [
    "# 6. After running the following code, what does the variable bacon contain?\n",
    "\n",
    "\n",
    "bacon = 22\n",
    "\n",
    "bacon + 1\n",
    "\n",
    "          variable bacon contain 23 "
   ]
  },
  {
   "cell_type": "code",
   "execution_count": 12,
   "id": "9f412e3c",
   "metadata": {},
   "outputs": [
    {
     "data": {
      "text/plain": [
       "23"
      ]
     },
     "execution_count": 12,
     "metadata": {},
     "output_type": "execute_result"
    }
   ],
   "source": [
    "bacon=22\n",
    "bacon+1"
   ]
  },
  {
   "cell_type": "markdown",
   "id": "3467144d",
   "metadata": {},
   "source": [
    "# 7. What should the values of the following two terms be?\n",
    "\n",
    "'spam' + 'spamspam'\n",
    "\n",
    "'spam' * 3\n",
    "        both two terms will get---> spamspamspam"
   ]
  },
  {
   "cell_type": "code",
   "execution_count": 17,
   "id": "1d322ec3",
   "metadata": {},
   "outputs": [
    {
     "name": "stdout",
     "output_type": "stream",
     "text": [
      "spamspamspam\n",
      "spamspamspam\n"
     ]
    }
   ],
   "source": [
    "a='spam' + 'spamspam'\n",
    "print(a)    #string values\n",
    "b='spam' * 3\n",
    "print(b)   #string values\n"
   ]
  },
  {
   "cell_type": "markdown",
   "id": "66fda5fd",
   "metadata": {},
   "source": [
    "# 8. Why is eggs a valid variable name while 100 is invalid?\n",
    "      \n",
    "      eggs is a valid variable because it followed the identifer(variable) rules,\n",
    "      \n",
    "      100 is not valid variable because it doesn't follow the identifier(variable) rules, variable shoudn't \n",
    "      start with number ."
   ]
  },
  {
   "cell_type": "markdown",
   "id": "38aa8c08",
   "metadata": {},
   "source": [
    "# 9. What three functions can be used to get the integer, floating-point number, or string version of a value?\n",
    "\n",
    "       int()   ----> integer function to get the integer values,function will evaluate to the integer version\n",
    "       of the value passed to the function.\n",
    "       float() ----> flaot function to get the float values,function will evaluate to the floating point number\n",
    "       version of the value passed to the function.\n",
    "       str()   ----> string function to get the string values,function will evaluate to the string version of \n",
    "       the value passed to the function."
   ]
  },
  {
   "cell_type": "code",
   "execution_count": 5,
   "id": "24470cab",
   "metadata": {},
   "outputs": [
    {
     "name": "stdout",
     "output_type": "stream",
     "text": [
      "enter any number: 5\n",
      "<class 'int'>\n",
      "enter any number: 12\n",
      "<class 'float'>\n",
      "enter any string : 12\n",
      "<class 'str'>\n"
     ]
    }
   ],
   "source": [
    "a=int(input(\"enter any number: \"))\n",
    "print(type(a))\n",
    "a=float(input(\"enter any number: \"))\n",
    "print(type(a))\n",
    "a=str(input(\"enter any string : \"))\n",
    "print(type(a))"
   ]
  },
  {
   "cell_type": "markdown",
   "id": "d7b4cc6e",
   "metadata": {},
   "source": [
    "# 10. Why does this expression cause an error? How can you fix it?\n",
    "\n",
    "\n",
    "'I have eaten ' + 99 + ' burritos.'"
   ]
  },
  {
   "cell_type": "markdown",
   "id": "6d3765eb",
   "metadata": {},
   "source": [
    "     Here string and integer concatenation was given ,same datatype concatenate will be possible so we need to \n",
    "     covert the 99 integer into string then, string and string concatenation will fix this expression."
   ]
  },
  {
   "cell_type": "code",
   "execution_count": 16,
   "id": "fffd0f3f",
   "metadata": {},
   "outputs": [
    {
     "data": {
      "text/plain": [
       "'I have eaten 99 burritos.'"
      ]
     },
     "execution_count": 16,
     "metadata": {},
     "output_type": "execute_result"
    }
   ],
   "source": [
    "#conver the interger to string\n",
    "#'I have eaten ' + str(99) + ' burritos.'\n",
    "'I have eaten ' + \"99\" + ' burritos.'"
   ]
  },
  {
   "cell_type": "code",
   "execution_count": null,
   "id": "6e5e47ba",
   "metadata": {},
   "outputs": [],
   "source": []
  }
 ],
 "metadata": {
  "kernelspec": {
   "display_name": "Python 3 (ipykernel)",
   "language": "python",
   "name": "python3"
  },
  "language_info": {
   "codemirror_mode": {
    "name": "ipython",
    "version": 3
   },
   "file_extension": ".py",
   "mimetype": "text/x-python",
   "name": "python",
   "nbconvert_exporter": "python",
   "pygments_lexer": "ipython3",
   "version": "3.9.7"
  }
 },
 "nbformat": 4,
 "nbformat_minor": 5
}
