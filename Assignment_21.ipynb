{
 "cells": [
  {
   "cell_type": "markdown",
   "id": "ad51624a",
   "metadata": {},
   "source": [
    "# 1. Add the current date to the text file today.txt as a string."
   ]
  },
  {
   "cell_type": "code",
   "execution_count": 1,
   "id": "239f9c78",
   "metadata": {},
   "outputs": [
    {
     "data": {
      "text/plain": [
       "'2023-03-23'"
      ]
     },
     "execution_count": 1,
     "metadata": {},
     "output_type": "execute_result"
    }
   ],
   "source": [
    "import datetime\n",
    "from datetime import date\n",
    "now = date.today()\n",
    "cur_date = now.isoformat()\n",
    "cur_date"
   ]
  },
  {
   "cell_type": "code",
   "execution_count": 2,
   "id": "da79e7ff",
   "metadata": {},
   "outputs": [],
   "source": [
    "with open('today.txt','w') as file:\n",
    "    file.write(cur_date)"
   ]
  },
  {
   "cell_type": "markdown",
   "id": "4282cb1f",
   "metadata": {},
   "source": [
    "# 2. Read the text file today.txt into the string today_string"
   ]
  },
  {
   "cell_type": "code",
   "execution_count": 3,
   "id": "6c358b65",
   "metadata": {},
   "outputs": [
    {
     "data": {
      "text/plain": [
       "'2023-03-23'"
      ]
     },
     "execution_count": 3,
     "metadata": {},
     "output_type": "execute_result"
    }
   ],
   "source": [
    "with open('today.txt','r') as file:\n",
    "    today_string = file.read()\n",
    "today_string"
   ]
  },
  {
   "cell_type": "markdown",
   "id": "0e39bf57",
   "metadata": {},
   "source": [
    "# 3. Parse the date from today_string."
   ]
  },
  {
   "cell_type": "code",
   "execution_count": 4,
   "id": "648d6c8c",
   "metadata": {},
   "outputs": [
    {
     "data": {
      "text/plain": [
       "datetime.datetime(2023, 3, 23, 0, 0)"
      ]
     },
     "execution_count": 4,
     "metadata": {},
     "output_type": "execute_result"
    }
   ],
   "source": [
    "from datetime import datetime\n",
    "format = '%Y-%m-%d'\n",
    "datetime.strptime(today_string,format)"
   ]
  },
  {
   "cell_type": "markdown",
   "id": "de3989a4",
   "metadata": {},
   "source": [
    "# 4. List the files in your current directory"
   ]
  },
  {
   "cell_type": "code",
   "execution_count": 5,
   "id": "405187bd",
   "metadata": {},
   "outputs": [
    {
     "data": {
      "text/plain": [
       "['.ipynb_checkpoints',\n",
       " 'Assignment_1.ipynb',\n",
       " 'Assignment_10.ipynb',\n",
       " 'Assignment_11.ipynb',\n",
       " 'Assignment_12.ipynb',\n",
       " 'Assignment_13.ipynb',\n",
       " 'Assignment_14.ipynb',\n",
       " 'Assignment_15.ipynb',\n",
       " 'Assignment_16.ipynb',\n",
       " 'Assignment_17.ipynb',\n",
       " 'Assignment_18.ipynb',\n",
       " 'Assignment_19.ipynb',\n",
       " 'assignment_2.ipynb',\n",
       " 'Assignment_20.ipynb',\n",
       " 'Assignment_21.ipynb',\n",
       " 'Assignment_3.ipynb',\n",
       " 'Assignment_4.ipynb',\n",
       " 'Assignment_5.ipynb',\n",
       " 'Assignment_6.ipynb',\n",
       " 'Assignment_7.ipynb',\n",
       " 'Assignment_8.ipynb',\n",
       " 'books.csv',\n",
       " 'books.db',\n",
       " 'books1.db',\n",
       " 'CENSES_DATASET_EDA.ipynb',\n",
       " 'COMPLETE EDA_BY_KRISH.ipynb',\n",
       " 'EDA 1.ipynb',\n",
       " 'EDA_PRACTICE.ipynb',\n",
       " 'GRAPHS_MATPLOTLIB_SEABORN.ipynb',\n",
       " 'numpy_class.ipynb',\n",
       " 'Programming_Assignment1.ipynb',\n",
       " 'Programming_Assignment10.ipynb',\n",
       " 'Programming_Assignment11.ipynb',\n",
       " 'Programming_Assignment12.ipynb',\n",
       " 'Programming_Assignment13.ipynb',\n",
       " 'Programming_Assignment14.ipynb',\n",
       " 'Programming_Assignment15.ipynb',\n",
       " 'Programming_Assignment16.ipynb',\n",
       " 'Programming_Assignment17.ipynb',\n",
       " 'Programming_Assignment18.ipynb',\n",
       " 'Programming_Assignment19.ipynb',\n",
       " 'Programming_Assignment2.ipynb',\n",
       " 'Programming_Assignment20.ipynb',\n",
       " 'Programming_Assignment21.ipynb',\n",
       " 'Programming_Assignment22.ipynb',\n",
       " 'Programming_Assignment23.ipynb',\n",
       " 'Programming_Assignment24.ipynb',\n",
       " 'Programming_Assignment25.ipynb',\n",
       " 'Programming_Assignment3.ipynb',\n",
       " 'Programming_Assignment4.ipynb',\n",
       " 'Programming_Assignment5.ipynb',\n",
       " 'Programming_Assignment6.ipynb',\n",
       " 'Programming_Assignment7.ipynb',\n",
       " 'Programming_Assignment8.ipynb',\n",
       " 'Programming_Assignment9.ipynb',\n",
       " 'statistics practical with python.ipynb',\n",
       " 'test.jpg',\n",
       " 'test.txt',\n",
       " 'today.txt',\n",
       " 'Untitled.ipynb',\n",
       " 'Untitled1.ipynb',\n",
       " 'Untitled2.ipynb',\n",
       " 'Untitled3.ipynb',\n",
       " 'Untitled4.ipynb',\n",
       " 'zoo.py',\n",
       " '__pycache__']"
      ]
     },
     "execution_count": 5,
     "metadata": {},
     "output_type": "execute_result"
    }
   ],
   "source": [
    "import os\n",
    "os.listdir('.')"
   ]
  },
  {
   "cell_type": "markdown",
   "id": "d1b9e899",
   "metadata": {},
   "source": [
    "# 5. Create a list of all of the files in your parent directory (minimum five files should be available)."
   ]
  },
  {
   "cell_type": "code",
   "execution_count": 15,
   "id": "24b2164f",
   "metadata": {},
   "outputs": [
    {
     "data": {
      "text/plain": [
       "['.ipynb_checkpoints',\n",
       " 'Assignment_1.ipynb',\n",
       " 'Assignment_10.ipynb',\n",
       " 'Assignment_11.ipynb',\n",
       " 'Assignment_12.ipynb',\n",
       " 'Assignment_13.ipynb',\n",
       " 'Assignment_14.ipynb',\n",
       " 'Assignment_15.ipynb',\n",
       " 'Assignment_16.ipynb',\n",
       " 'Assignment_17.ipynb',\n",
       " 'Assignment_18.ipynb',\n",
       " 'Assignment_19.ipynb',\n",
       " 'assignment_2.ipynb',\n",
       " 'Assignment_20.ipynb',\n",
       " 'Assignment_21.ipynb',\n",
       " 'Assignment_3.ipynb',\n",
       " 'Assignment_4.ipynb',\n",
       " 'Assignment_5.ipynb',\n",
       " 'Assignment_6.ipynb',\n",
       " 'Assignment_7.ipynb',\n",
       " 'Assignment_8.ipynb',\n",
       " 'books.csv',\n",
       " 'books.db',\n",
       " 'books1.db',\n",
       " 'CENSES_DATASET_EDA.ipynb',\n",
       " 'COMPLETE EDA_BY_KRISH.ipynb',\n",
       " 'EDA 1.ipynb',\n",
       " 'EDA_PRACTICE.ipynb',\n",
       " 'GRAPHS_MATPLOTLIB_SEABORN.ipynb',\n",
       " 'numpy_class.ipynb',\n",
       " 'Programming_Assignment1.ipynb',\n",
       " 'Programming_Assignment10.ipynb',\n",
       " 'Programming_Assignment11.ipynb',\n",
       " 'Programming_Assignment12.ipynb',\n",
       " 'Programming_Assignment13.ipynb',\n",
       " 'Programming_Assignment14.ipynb',\n",
       " 'Programming_Assignment15.ipynb',\n",
       " 'Programming_Assignment16.ipynb',\n",
       " 'Programming_Assignment17.ipynb',\n",
       " 'Programming_Assignment18.ipynb',\n",
       " 'Programming_Assignment19.ipynb',\n",
       " 'Programming_Assignment2.ipynb',\n",
       " 'Programming_Assignment20.ipynb',\n",
       " 'Programming_Assignment21.ipynb',\n",
       " 'Programming_Assignment22.ipynb',\n",
       " 'Programming_Assignment23.ipynb',\n",
       " 'Programming_Assignment24.ipynb',\n",
       " 'Programming_Assignment25.ipynb',\n",
       " 'Programming_Assignment3.ipynb',\n",
       " 'Programming_Assignment4.ipynb',\n",
       " 'Programming_Assignment5.ipynb',\n",
       " 'Programming_Assignment6.ipynb',\n",
       " 'Programming_Assignment7.ipynb',\n",
       " 'Programming_Assignment8.ipynb',\n",
       " 'Programming_Assignment9.ipynb',\n",
       " 'statistics practical with python.ipynb',\n",
       " 'test.jpg',\n",
       " 'test.txt',\n",
       " 'today.txt',\n",
       " 'Untitled.ipynb',\n",
       " 'Untitled1.ipynb',\n",
       " 'Untitled2.ipynb',\n",
       " 'Untitled3.ipynb',\n",
       " 'Untitled4.ipynb',\n",
       " 'zoo.py',\n",
       " '__pycache__']"
      ]
     },
     "execution_count": 15,
     "metadata": {},
     "output_type": "execute_result"
    }
   ],
   "source": [
    "os.listdir('.')"
   ]
  },
  {
   "cell_type": "markdown",
   "id": "01fa843f",
   "metadata": {},
   "source": [
    "# 6. Use multiprocessing to create three separate processes. Make each one wait a random number of seconds between one and five, print the current time, and then exit."
   ]
  },
  {
   "cell_type": "code",
   "execution_count": 10,
   "id": "3b092820",
   "metadata": {},
   "outputs": [],
   "source": [
    "import multiprocessing\n",
    "\n",
    "def printsec(seconds):\n",
    "    from datetime import datetime\n",
    "    from time import sleep\n",
    "    sleep(seconds)\n",
    "    print('wait', seconds, 'seconds, time is', datetime.utcnow())\n",
    "    \n",
    "if __name__ == '__main__':\n",
    "    import random    \n",
    "    for n in range(3):\n",
    "        seconds = random.random()\n",
    "        proc = multiprocessing.Process(target=printsec, args=(seconds,))\n",
    "        proc.start()"
   ]
  },
  {
   "cell_type": "code",
   "execution_count": 16,
   "id": "50e4a0c4",
   "metadata": {},
   "outputs": [],
   "source": [
    "!python zoo.py   #here the time is very less thats why not showed "
   ]
  },
  {
   "cell_type": "markdown",
   "id": "e8ab21e8",
   "metadata": {},
   "source": [
    "# 7. Create a date object of your day of birth."
   ]
  },
  {
   "cell_type": "code",
   "execution_count": 17,
   "id": "b1a6ce05",
   "metadata": {},
   "outputs": [
    {
     "data": {
      "text/plain": [
       "datetime.date(1998, 9, 9)"
      ]
     },
     "execution_count": 17,
     "metadata": {},
     "output_type": "execute_result"
    }
   ],
   "source": [
    "my_dob = date(1998,9,9)\n",
    "my_dob"
   ]
  },
  {
   "cell_type": "markdown",
   "id": "877dcd21",
   "metadata": {},
   "source": [
    "# 8. What day of the week was your day of birth?"
   ]
  },
  {
   "cell_type": "code",
   "execution_count": 18,
   "id": "5c207821",
   "metadata": {},
   "outputs": [
    {
     "data": {
      "text/plain": [
       "2"
      ]
     },
     "execution_count": 18,
     "metadata": {},
     "output_type": "execute_result"
    }
   ],
   "source": [
    "my_dob.weekday()"
   ]
  },
  {
   "cell_type": "markdown",
   "id": "85b0e992",
   "metadata": {},
   "source": [
    "# 9. When will you be (or when were you) 10,000 days old?"
   ]
  },
  {
   "cell_type": "code",
   "execution_count": 19,
   "id": "dcd88b1e",
   "metadata": {},
   "outputs": [
    {
     "data": {
      "text/plain": [
       "datetime.date(2026, 1, 25)"
      ]
     },
     "execution_count": 19,
     "metadata": {},
     "output_type": "execute_result"
    }
   ],
   "source": [
    "from datetime import timedelta\n",
    "day10000 = my_dob + timedelta(days=10000)\n",
    "day10000"
   ]
  },
  {
   "cell_type": "code",
   "execution_count": null,
   "id": "bcf694ae",
   "metadata": {},
   "outputs": [],
   "source": []
  }
 ],
 "metadata": {
  "kernelspec": {
   "display_name": "Python 3 (ipykernel)",
   "language": "python",
   "name": "python3"
  },
  "language_info": {
   "codemirror_mode": {
    "name": "ipython",
    "version": 3
   },
   "file_extension": ".py",
   "mimetype": "text/x-python",
   "name": "python",
   "nbconvert_exporter": "python",
   "pygments_lexer": "ipython3",
   "version": "3.9.7"
  }
 },
 "nbformat": 4,
 "nbformat_minor": 5
}
